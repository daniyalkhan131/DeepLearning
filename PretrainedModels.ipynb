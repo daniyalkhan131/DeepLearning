{
  "nbformat": 4,
  "nbformat_minor": 0,
  "metadata": {
    "colab": {
      "provenance": []
    },
    "kernelspec": {
      "name": "python3",
      "display_name": "Python 3"
    },
    "language_info": {
      "name": "python"
    }
  },
  "cells": [
    {
      "cell_type": "code",
      "execution_count": 4,
      "metadata": {
        "id": "pizpDmnCG00a"
      },
      "outputs": [],
      "source": [
        "from tensorflow.keras.applications.resnet50 import ResNet50\n",
        "from tensorflow.keras.preprocessing import image\n",
        "from tensorflow.keras.applications.resnet50 import preprocess_input,decode_predictions\n",
        "import numpy as np"
      ]
    },
    {
      "cell_type": "code",
      "source": [
        "model=ResNet50(weights='imagenet') #for telling that we need weights of training on imagenet\n",
        "#dataset"
      ],
      "metadata": {
        "colab": {
          "base_uri": "https://localhost:8080/"
        },
        "id": "NxtTSAiGG8mP",
        "outputId": "c31cb7db-50e5-4b16-cfcf-6644ec26f002"
      },
      "execution_count": 3,
      "outputs": [
        {
          "output_type": "stream",
          "name": "stdout",
          "text": [
            "Downloading data from https://storage.googleapis.com/tensorflow/keras-applications/resnet/resnet50_weights_tf_dim_ordering_tf_kernels.h5\n",
            "102967424/102967424 [==============================] - 1s 0us/step\n"
          ]
        }
      ]
    },
    {
      "cell_type": "code",
      "source": [
        "img_path='/content/pexels-peng-louis-1643457.jpg'\n",
        "img=image.load_img(img_path, target_size=(224,224)) #make size that resnet50 accepts\n",
        "x=image.img_to_array(img) #converting image to numpy array\n",
        "x=np.expand_dims(x,axis=0) #for adding dimension for batch\n",
        "x=preprocess_input(x) #we do preprocess that is done by resnet50"
      ],
      "metadata": {
        "id": "sORZzVcuHY4o"
      },
      "execution_count": 16,
      "outputs": []
    },
    {
      "cell_type": "code",
      "source": [
        "preds=model.predict(x)\n",
        "print('Predicted: ', decode_predictions(preds, top=3)[0]) #it will give top 3 predictions\n"
      ],
      "metadata": {
        "colab": {
          "base_uri": "https://localhost:8080/"
        },
        "id": "b0D4u7aoIWmL",
        "outputId": "a71af008-26e8-4eee-f71c-b1677ed32c93"
      },
      "execution_count": 17,
      "outputs": [
        {
          "output_type": "stream",
          "name": "stdout",
          "text": [
            "1/1 [==============================] - 0s 234ms/step\n",
            "Predicted:  [('n02123394', 'Persian_cat', 0.3869119), ('n02120079', 'Arctic_fox', 0.21269655), ('n04399382', 'teddy', 0.06083946)]\n"
          ]
        }
      ]
    },
    {
      "cell_type": "code",
      "source": [
        "max(preds[0])"
      ],
      "metadata": {
        "colab": {
          "base_uri": "https://localhost:8080/"
        },
        "id": "ZHHDFzo8Irb3",
        "outputId": "4865cc6e-f38f-4d2b-b7a1-8a3d66aa31d5"
      },
      "execution_count": 18,
      "outputs": [
        {
          "output_type": "execute_result",
          "data": {
            "text/plain": [
              "0.3869119"
            ]
          },
          "metadata": {},
          "execution_count": 18
        }
      ]
    },
    {
      "cell_type": "code",
      "source": [],
      "metadata": {
        "id": "dd-eH0JVIyHB"
      },
      "execution_count": null,
      "outputs": []
    }
  ]
}