{
  "nbformat": 4,
  "nbformat_minor": 0,
  "metadata": {
    "colab": {
      "provenance": []
    },
    "kernelspec": {
      "name": "python3",
      "display_name": "Python 3"
    },
    "language_info": {
      "name": "python"
    }
  },
  "cells": [
    {
      "cell_type": "code",
      "execution_count": 50,
      "metadata": {
        "id": "Wvj-lq9mdGlx"
      },
      "outputs": [],
      "source": [
        "import numpy as np\n",
        "import pandas as pd"
      ]
    },
    {
      "cell_type": "code",
      "source": [
        "df = pd.DataFrame([[8,8,4],[7,9,5],[6,10,6],[5,12,7]], columns=['cgpa', 'profile_score', 'lpa'])"
      ],
      "metadata": {
        "id": "LCZZ5eYAdeZi"
      },
      "execution_count": 51,
      "outputs": []
    },
    {
      "cell_type": "code",
      "source": [
        "df"
      ],
      "metadata": {
        "colab": {
          "base_uri": "https://localhost:8080/",
          "height": 175
        },
        "id": "WvZaleZxdfoC",
        "outputId": "ca9e4727-a9be-4fe4-8ab7-1f729357ab8e"
      },
      "execution_count": 52,
      "outputs": [
        {
          "output_type": "execute_result",
          "data": {
            "text/plain": [
              "   cgpa  profile_score  lpa\n",
              "0     8              8    4\n",
              "1     7              9    5\n",
              "2     6             10    6\n",
              "3     5             12    7"
            ],
            "text/html": [
              "\n",
              "  <div id=\"df-b0836605-9fe2-4bd8-b534-2d1329501356\" class=\"colab-df-container\">\n",
              "    <div>\n",
              "<style scoped>\n",
              "    .dataframe tbody tr th:only-of-type {\n",
              "        vertical-align: middle;\n",
              "    }\n",
              "\n",
              "    .dataframe tbody tr th {\n",
              "        vertical-align: top;\n",
              "    }\n",
              "\n",
              "    .dataframe thead th {\n",
              "        text-align: right;\n",
              "    }\n",
              "</style>\n",
              "<table border=\"1\" class=\"dataframe\">\n",
              "  <thead>\n",
              "    <tr style=\"text-align: right;\">\n",
              "      <th></th>\n",
              "      <th>cgpa</th>\n",
              "      <th>profile_score</th>\n",
              "      <th>lpa</th>\n",
              "    </tr>\n",
              "  </thead>\n",
              "  <tbody>\n",
              "    <tr>\n",
              "      <th>0</th>\n",
              "      <td>8</td>\n",
              "      <td>8</td>\n",
              "      <td>4</td>\n",
              "    </tr>\n",
              "    <tr>\n",
              "      <th>1</th>\n",
              "      <td>7</td>\n",
              "      <td>9</td>\n",
              "      <td>5</td>\n",
              "    </tr>\n",
              "    <tr>\n",
              "      <th>2</th>\n",
              "      <td>6</td>\n",
              "      <td>10</td>\n",
              "      <td>6</td>\n",
              "    </tr>\n",
              "    <tr>\n",
              "      <th>3</th>\n",
              "      <td>5</td>\n",
              "      <td>12</td>\n",
              "      <td>7</td>\n",
              "    </tr>\n",
              "  </tbody>\n",
              "</table>\n",
              "</div>\n",
              "    <div class=\"colab-df-buttons\">\n",
              "\n",
              "  <div class=\"colab-df-container\">\n",
              "    <button class=\"colab-df-convert\" onclick=\"convertToInteractive('df-b0836605-9fe2-4bd8-b534-2d1329501356')\"\n",
              "            title=\"Convert this dataframe to an interactive table.\"\n",
              "            style=\"display:none;\">\n",
              "\n",
              "  <svg xmlns=\"http://www.w3.org/2000/svg\" height=\"24px\" viewBox=\"0 -960 960 960\">\n",
              "    <path d=\"M120-120v-720h720v720H120Zm60-500h600v-160H180v160Zm220 220h160v-160H400v160Zm0 220h160v-160H400v160ZM180-400h160v-160H180v160Zm440 0h160v-160H620v160ZM180-180h160v-160H180v160Zm440 0h160v-160H620v160Z\"/>\n",
              "  </svg>\n",
              "    </button>\n",
              "\n",
              "  <style>\n",
              "    .colab-df-container {\n",
              "      display:flex;\n",
              "      gap: 12px;\n",
              "    }\n",
              "\n",
              "    .colab-df-convert {\n",
              "      background-color: #E8F0FE;\n",
              "      border: none;\n",
              "      border-radius: 50%;\n",
              "      cursor: pointer;\n",
              "      display: none;\n",
              "      fill: #1967D2;\n",
              "      height: 32px;\n",
              "      padding: 0 0 0 0;\n",
              "      width: 32px;\n",
              "    }\n",
              "\n",
              "    .colab-df-convert:hover {\n",
              "      background-color: #E2EBFA;\n",
              "      box-shadow: 0px 1px 2px rgba(60, 64, 67, 0.3), 0px 1px 3px 1px rgba(60, 64, 67, 0.15);\n",
              "      fill: #174EA6;\n",
              "    }\n",
              "\n",
              "    .colab-df-buttons div {\n",
              "      margin-bottom: 4px;\n",
              "    }\n",
              "\n",
              "    [theme=dark] .colab-df-convert {\n",
              "      background-color: #3B4455;\n",
              "      fill: #D2E3FC;\n",
              "    }\n",
              "\n",
              "    [theme=dark] .colab-df-convert:hover {\n",
              "      background-color: #434B5C;\n",
              "      box-shadow: 0px 1px 3px 1px rgba(0, 0, 0, 0.15);\n",
              "      filter: drop-shadow(0px 1px 2px rgba(0, 0, 0, 0.3));\n",
              "      fill: #FFFFFF;\n",
              "    }\n",
              "  </style>\n",
              "\n",
              "    <script>\n",
              "      const buttonEl =\n",
              "        document.querySelector('#df-b0836605-9fe2-4bd8-b534-2d1329501356 button.colab-df-convert');\n",
              "      buttonEl.style.display =\n",
              "        google.colab.kernel.accessAllowed ? 'block' : 'none';\n",
              "\n",
              "      async function convertToInteractive(key) {\n",
              "        const element = document.querySelector('#df-b0836605-9fe2-4bd8-b534-2d1329501356');\n",
              "        const dataTable =\n",
              "          await google.colab.kernel.invokeFunction('convertToInteractive',\n",
              "                                                    [key], {});\n",
              "        if (!dataTable) return;\n",
              "\n",
              "        const docLinkHtml = 'Like what you see? Visit the ' +\n",
              "          '<a target=\"_blank\" href=https://colab.research.google.com/notebooks/data_table.ipynb>data table notebook</a>'\n",
              "          + ' to learn more about interactive tables.';\n",
              "        element.innerHTML = '';\n",
              "        dataTable['output_type'] = 'display_data';\n",
              "        await google.colab.output.renderOutput(dataTable, element);\n",
              "        const docLink = document.createElement('div');\n",
              "        docLink.innerHTML = docLinkHtml;\n",
              "        element.appendChild(docLink);\n",
              "      }\n",
              "    </script>\n",
              "  </div>\n",
              "\n",
              "\n",
              "<div id=\"df-50526e2e-103a-4cf8-9aac-d93713d99223\">\n",
              "  <button class=\"colab-df-quickchart\" onclick=\"quickchart('df-50526e2e-103a-4cf8-9aac-d93713d99223')\"\n",
              "            title=\"Suggest charts\"\n",
              "            style=\"display:none;\">\n",
              "\n",
              "<svg xmlns=\"http://www.w3.org/2000/svg\" height=\"24px\"viewBox=\"0 0 24 24\"\n",
              "     width=\"24px\">\n",
              "    <g>\n",
              "        <path d=\"M19 3H5c-1.1 0-2 .9-2 2v14c0 1.1.9 2 2 2h14c1.1 0 2-.9 2-2V5c0-1.1-.9-2-2-2zM9 17H7v-7h2v7zm4 0h-2V7h2v10zm4 0h-2v-4h2v4z\"/>\n",
              "    </g>\n",
              "</svg>\n",
              "  </button>\n",
              "\n",
              "<style>\n",
              "  .colab-df-quickchart {\n",
              "      --bg-color: #E8F0FE;\n",
              "      --fill-color: #1967D2;\n",
              "      --hover-bg-color: #E2EBFA;\n",
              "      --hover-fill-color: #174EA6;\n",
              "      --disabled-fill-color: #AAA;\n",
              "      --disabled-bg-color: #DDD;\n",
              "  }\n",
              "\n",
              "  [theme=dark] .colab-df-quickchart {\n",
              "      --bg-color: #3B4455;\n",
              "      --fill-color: #D2E3FC;\n",
              "      --hover-bg-color: #434B5C;\n",
              "      --hover-fill-color: #FFFFFF;\n",
              "      --disabled-bg-color: #3B4455;\n",
              "      --disabled-fill-color: #666;\n",
              "  }\n",
              "\n",
              "  .colab-df-quickchart {\n",
              "    background-color: var(--bg-color);\n",
              "    border: none;\n",
              "    border-radius: 50%;\n",
              "    cursor: pointer;\n",
              "    display: none;\n",
              "    fill: var(--fill-color);\n",
              "    height: 32px;\n",
              "    padding: 0;\n",
              "    width: 32px;\n",
              "  }\n",
              "\n",
              "  .colab-df-quickchart:hover {\n",
              "    background-color: var(--hover-bg-color);\n",
              "    box-shadow: 0 1px 2px rgba(60, 64, 67, 0.3), 0 1px 3px 1px rgba(60, 64, 67, 0.15);\n",
              "    fill: var(--button-hover-fill-color);\n",
              "  }\n",
              "\n",
              "  .colab-df-quickchart-complete:disabled,\n",
              "  .colab-df-quickchart-complete:disabled:hover {\n",
              "    background-color: var(--disabled-bg-color);\n",
              "    fill: var(--disabled-fill-color);\n",
              "    box-shadow: none;\n",
              "  }\n",
              "\n",
              "  .colab-df-spinner {\n",
              "    border: 2px solid var(--fill-color);\n",
              "    border-color: transparent;\n",
              "    border-bottom-color: var(--fill-color);\n",
              "    animation:\n",
              "      spin 1s steps(1) infinite;\n",
              "  }\n",
              "\n",
              "  @keyframes spin {\n",
              "    0% {\n",
              "      border-color: transparent;\n",
              "      border-bottom-color: var(--fill-color);\n",
              "      border-left-color: var(--fill-color);\n",
              "    }\n",
              "    20% {\n",
              "      border-color: transparent;\n",
              "      border-left-color: var(--fill-color);\n",
              "      border-top-color: var(--fill-color);\n",
              "    }\n",
              "    30% {\n",
              "      border-color: transparent;\n",
              "      border-left-color: var(--fill-color);\n",
              "      border-top-color: var(--fill-color);\n",
              "      border-right-color: var(--fill-color);\n",
              "    }\n",
              "    40% {\n",
              "      border-color: transparent;\n",
              "      border-right-color: var(--fill-color);\n",
              "      border-top-color: var(--fill-color);\n",
              "    }\n",
              "    60% {\n",
              "      border-color: transparent;\n",
              "      border-right-color: var(--fill-color);\n",
              "    }\n",
              "    80% {\n",
              "      border-color: transparent;\n",
              "      border-right-color: var(--fill-color);\n",
              "      border-bottom-color: var(--fill-color);\n",
              "    }\n",
              "    90% {\n",
              "      border-color: transparent;\n",
              "      border-bottom-color: var(--fill-color);\n",
              "    }\n",
              "  }\n",
              "</style>\n",
              "\n",
              "  <script>\n",
              "    async function quickchart(key) {\n",
              "      const quickchartButtonEl =\n",
              "        document.querySelector('#' + key + ' button');\n",
              "      quickchartButtonEl.disabled = true;  // To prevent multiple clicks.\n",
              "      quickchartButtonEl.classList.add('colab-df-spinner');\n",
              "      try {\n",
              "        const charts = await google.colab.kernel.invokeFunction(\n",
              "            'suggestCharts', [key], {});\n",
              "      } catch (error) {\n",
              "        console.error('Error during call to suggestCharts:', error);\n",
              "      }\n",
              "      quickchartButtonEl.classList.remove('colab-df-spinner');\n",
              "      quickchartButtonEl.classList.add('colab-df-quickchart-complete');\n",
              "    }\n",
              "    (() => {\n",
              "      let quickchartButtonEl =\n",
              "        document.querySelector('#df-50526e2e-103a-4cf8-9aac-d93713d99223 button');\n",
              "      quickchartButtonEl.style.display =\n",
              "        google.colab.kernel.accessAllowed ? 'block' : 'none';\n",
              "    })();\n",
              "  </script>\n",
              "</div>\n",
              "    </div>\n",
              "  </div>\n"
            ]
          },
          "metadata": {},
          "execution_count": 52
        }
      ]
    },
    {
      "cell_type": "code",
      "source": [
        "def initialize_parameters(layer_dims): #here we give model architechture number of nodes layer wise in list and it returns all weights and bias\n",
        "\n",
        "  np.random.seed(3)\n",
        "  parameters = {}\n",
        "  L = len(layer_dims)\n",
        "\n",
        "  for l in range(1, L):\n",
        "\n",
        "    parameters['W' + str(l)] = np.ones((layer_dims[l-1], layer_dims[l]))*0.1\n",
        "    parameters['b' + str(l)] = np.zeros((layer_dims[l], 1))\n",
        "\n",
        "\n",
        "  return parameters"
      ],
      "metadata": {
        "id": "S3NBVilYdg9I"
      },
      "execution_count": 53,
      "outputs": []
    },
    {
      "cell_type": "code",
      "source": [
        "parameters=initialize_parameters([2,2,1])"
      ],
      "metadata": {
        "id": "lrYWP_8aeJUM"
      },
      "execution_count": 54,
      "outputs": []
    },
    {
      "cell_type": "code",
      "source": [
        "def linear_forward(A_prev, W, b): #it is product of output from previous layer with wight and add bias\n",
        "\n",
        "  Z = np.dot(W.T, A_prev) + b\n",
        "\n",
        "  return Z"
      ],
      "metadata": {
        "id": "cPDi5FP7eQJq"
      },
      "execution_count": 55,
      "outputs": []
    },
    {
      "cell_type": "code",
      "source": [
        "# this is doing Forward Prop\n",
        "def L_layer_forward(X, parameters):\n",
        "\n",
        "  A = X\n",
        "  L = len(parameters) // 2                  # number of layers in the neural network\n",
        "\n",
        "  for l in range(1, L+1):\n",
        "    A_prev = A\n",
        "    Wl = parameters['W' + str(l)]\n",
        "    bl = parameters['b' + str(l)]\n",
        "    #print(\"A\"+str(l-1)+\": \", A_prev)\n",
        "    #print(\"W\"+str(l)+\": \", Wl)\n",
        "    #print(\"b\"+str(l)+\": \", bl)\n",
        "    #print(\"--\"*20)\n",
        "\n",
        "    A = linear_forward(A_prev, Wl, bl)\n",
        "    #print(\"A\"+str(l)+\": \", A)\n",
        "    #print(\"**\"*20)\n",
        "\n",
        "  return A,A_prev #returning previous output and output because needed for back prop calc"
      ],
      "metadata": {
        "id": "3sQrTjwCfJ1u"
      },
      "execution_count": 69,
      "outputs": []
    },
    {
      "cell_type": "code",
      "source": [
        "X = df[['cgpa', 'profile_score']].values[0].reshape(2,1) # Shape(no of features, no. of training example)\n",
        "y = df[['lpa']].values[0][0]\n",
        "\n",
        "# Parameter initialization\n",
        "parameters = initialize_parameters([2,2,1])\n",
        "\n",
        "y_hat,A1 = L_layer_forward(X, parameters)"
      ],
      "metadata": {
        "colab": {
          "base_uri": "https://localhost:8080/"
        },
        "id": "f96RdPKyfiqK",
        "outputId": "c93d923a-d358-4337-f288-b2f688e7fd9e"
      },
      "execution_count": 57,
      "outputs": [
        {
          "output_type": "stream",
          "name": "stdout",
          "text": [
            "A0:  [[8]\n",
            " [8]]\n",
            "W1:  [[0.1 0.1]\n",
            " [0.1 0.1]]\n",
            "b1:  [[0.]\n",
            " [0.]]\n",
            "----------------------------------------\n",
            "A1:  [[1.6]\n",
            " [1.6]]\n",
            "****************************************\n",
            "A1:  [[1.6]\n",
            " [1.6]]\n",
            "W2:  [[0.1]\n",
            " [0.1]]\n",
            "b2:  [[0.]]\n",
            "----------------------------------------\n",
            "A2:  [[0.32]]\n",
            "****************************************\n"
          ]
        }
      ]
    },
    {
      "cell_type": "code",
      "source": [
        "y_hat"
      ],
      "metadata": {
        "id": "KznG8KmRgEis",
        "colab": {
          "base_uri": "https://localhost:8080/"
        },
        "outputId": "98b96f82-2cb1-44a9-a8f4-121a93db775a"
      },
      "execution_count": 58,
      "outputs": [
        {
          "output_type": "execute_result",
          "data": {
            "text/plain": [
              "array([[0.32]])"
            ]
          },
          "metadata": {},
          "execution_count": 58
        }
      ]
    },
    {
      "cell_type": "code",
      "source": [
        "def update_parameters(parameters,y,y_hat,A1,X):\n",
        "  g1=(0.001 * 2 * (y - y_hat)*A1[0][0])\n",
        "  g2=(0.001 * 2 * (y - y_hat)*A1[1][0])\n",
        "  g3=(0.001 * 2 * (y - y_hat))\n",
        "  g4=(0.001 * 2 * (y - y_hat)*parameters['W2'][0][0]*X[0][0])\n",
        "  g5=(0.001 * 2 * (y - y_hat)*parameters['W2'][0][0]*X[1][0])\n",
        "  g6=(0.001 * 2 * (y - y_hat)*parameters['W2'][0][0])\n",
        "  g7=(0.001 * 2 * (y - y_hat)*parameters['W2'][1][0]*X[0][0])\n",
        "  g8=(0.001 * 2 * (y - y_hat)*parameters['W2'][1][0]*X[1][0])\n",
        "  g9=(0.001 * 2 * (y - y_hat)*parameters['W2'][1][0])\n",
        "  parameters['W2'][0][0] = parameters['W2'][0][0] + g1#(0.001 * 2 * (y - y_hat)*A1[0][0])\n",
        "  parameters['W2'][1][0] = parameters['W2'][1][0] + g2#(0.001 * 2 * (y - y_hat)*A1[1][0])\n",
        "  parameters['b2'][0][0] = parameters['W2'][1][0] + g3#(0.001 * 2 * (y - y_hat))\n",
        "\n",
        "  parameters['W1'][0][0] = parameters['W1'][0][0] + g4#(0.001 * 2 * (y - y_hat)*parameters['W2'][0][0]*X[0][0])\n",
        "  parameters['W1'][0][1] = parameters['W1'][0][1] + g5#(0.001 * 2 * (y - y_hat)*parameters['W2'][0][0]*X[1][0])\n",
        "  parameters['b1'][0][0] = parameters['b1'][0][0] + g6#(0.001 * 2 * (y - y_hat)*parameters['W2'][0][0])\n",
        "\n",
        "  parameters['W1'][1][0] = parameters['W1'][1][0] + g7#(0.001 * 2 * (y - y_hat)*parameters['W2'][1][0]*X[0][0])\n",
        "  parameters['W1'][1][1] = parameters['W1'][1][1] + g8#(0.001 * 2 * (y - y_hat)*parameters['W2'][1][0]*X[1][0])\n",
        "  parameters['b1'][1][0] = parameters['b1'][1][0] + g9#(0.001 * 2 * (y - y_hat)*parameters['W2'][1][0])\n",
        "\n",
        "  #campusx updated the weights as it find gradient but for 1 input I updated all weights together not like one updated weight used for calculatn of old one"
      ],
      "metadata": {
        "id": "6_85AnUcXYP2"
      },
      "execution_count": 59,
      "outputs": []
    },
    {
      "cell_type": "code",
      "source": [
        "update_parameters(parameters,y,y_hat,A1,X)"
      ],
      "metadata": {
        "id": "99jfQR82tf3o"
      },
      "execution_count": 60,
      "outputs": []
    },
    {
      "cell_type": "code",
      "source": [
        "#when updating weights as one (i think this one is more correct, check or confirm this up)\n",
        "parameters"
      ],
      "metadata": {
        "colab": {
          "base_uri": "https://localhost:8080/"
        },
        "id": "dbo0B9vSvK9V",
        "outputId": "b62e5f85-355c-456f-8996-f9f0d2976d9d"
      },
      "execution_count": 61,
      "outputs": [
        {
          "output_type": "execute_result",
          "data": {
            "text/plain": [
              "{'W1': array([[0.105888, 0.105888],\n",
              "        [0.105888, 0.105888]]),\n",
              " 'b1': array([[0.000736],\n",
              "        [0.000736]]),\n",
              " 'W2': array([[0.111776],\n",
              "        [0.111776]]),\n",
              " 'b2': array([[0.119136]])}"
            ]
          },
          "metadata": {},
          "execution_count": 61
        }
      ]
    },
    {
      "cell_type": "code",
      "source": [
        "#what campusx did\n",
        "parameters"
      ],
      "metadata": {
        "colab": {
          "base_uri": "https://localhost:8080/"
        },
        "id": "4buOJiPdtjHC",
        "outputId": "78e20f00-0131-40c3-b81d-941021a910dd"
      },
      "execution_count": 62,
      "outputs": [
        {
          "output_type": "execute_result",
          "data": {
            "text/plain": [
              "{'W1': array([[0.105888, 0.105888],\n",
              "        [0.105888, 0.105888]]),\n",
              " 'b1': array([[0.000736],\n",
              "        [0.000736]]),\n",
              " 'W2': array([[0.111776],\n",
              "        [0.111776]]),\n",
              " 'b2': array([[0.119136]])}"
            ]
          },
          "metadata": {},
          "execution_count": 62
        }
      ]
    },
    {
      "cell_type": "code",
      "source": [
        "X = df[['cgpa', 'profile_score']].values[1].reshape(2,1) # Shape(no of features, no. of training example)\n",
        "y = df[['lpa']].values[1][0]\n",
        "\n",
        "y_hat,A1 = L_layer_forward(X, parameters)"
      ],
      "metadata": {
        "colab": {
          "base_uri": "https://localhost:8080/"
        },
        "id": "aEZBfgkjt9GG",
        "outputId": "33f1addb-1531-401b-ae23-0ce6563b5aa4"
      },
      "execution_count": 63,
      "outputs": [
        {
          "output_type": "stream",
          "name": "stdout",
          "text": [
            "A0:  [[7]\n",
            " [9]]\n",
            "W1:  [[0.105888 0.105888]\n",
            " [0.105888 0.105888]]\n",
            "b1:  [[0.000736]\n",
            " [0.000736]]\n",
            "----------------------------------------\n",
            "A1:  [[1.694944]\n",
            " [1.694944]]\n",
            "****************************************\n",
            "A1:  [[1.694944]\n",
            " [1.694944]]\n",
            "W2:  [[0.111776]\n",
            " [0.111776]]\n",
            "b2:  [[0.119136]]\n",
            "----------------------------------------\n",
            "A2:  [[0.49804412]]\n",
            "****************************************\n"
          ]
        }
      ]
    },
    {
      "cell_type": "code",
      "source": [
        "update_parameters(parameters,y,y_hat,A1,X)"
      ],
      "metadata": {
        "id": "fDBHUdaQxmS3"
      },
      "execution_count": 64,
      "outputs": []
    },
    {
      "cell_type": "code",
      "source": [
        "parameters"
      ],
      "metadata": {
        "colab": {
          "base_uri": "https://localhost:8080/"
        },
        "id": "sjgpgrD2xtWy",
        "outputId": "9bd0ceba-3d71-4ab9-a387-f062b6e38a6b"
      },
      "execution_count": 65,
      "outputs": [
        {
          "output_type": "execute_result",
          "data": {
            "text/plain": [
              "{'W1': array([[0.11293295, 0.11494579],\n",
              "        [0.11293295, 0.11494579]]),\n",
              " 'b1': array([[0.00174242],\n",
              "        [0.00174242]]),\n",
              " 'W2': array([[0.12703713],\n",
              "        [0.12703713]]),\n",
              " 'b2': array([[0.13604104]])}"
            ]
          },
          "metadata": {},
          "execution_count": 65
        }
      ]
    },
    {
      "cell_type": "code",
      "source": [
        "X = df[['cgpa', 'profile_score']].values[2].reshape(2,1) # Shape(no of features, no. of training example)\n",
        "y = df[['lpa']].values[2][0]\n",
        "\n",
        "y_hat,A1 = L_layer_forward(X, parameters)\n",
        "\n",
        "update_parameters(parameters,y,y_hat,A1,X)\n",
        "\n",
        "parameters"
      ],
      "metadata": {
        "colab": {
          "base_uri": "https://localhost:8080/"
        },
        "id": "xPjreOqTxvJx",
        "outputId": "f3072618-5c2e-40ff-94e3-225a3c60f50a"
      },
      "execution_count": 66,
      "outputs": [
        {
          "output_type": "stream",
          "name": "stdout",
          "text": [
            "A0:  [[ 6]\n",
            " [10]]\n",
            "W1:  [[0.11293295 0.11494579]\n",
            " [0.11293295 0.11494579]]\n",
            "b1:  [[0.00174242]\n",
            " [0.00174242]]\n",
            "----------------------------------------\n",
            "A1:  [[1.8086696 ]\n",
            " [1.84087508]]\n",
            "****************************************\n",
            "A1:  [[1.8086696 ]\n",
            " [1.84087508]]\n",
            "W2:  [[0.12703713]\n",
            " [0.12703713]]\n",
            "b2:  [[0.13604104]]\n",
            "----------------------------------------\n",
            "A2:  [[0.59966871]]\n",
            "****************************************\n"
          ]
        },
        {
          "output_type": "execute_result",
          "data": {
            "text/plain": [
              "{'W1': array([[0.12116546, 0.12866664],\n",
              "        [0.12116546, 0.12866664]]),\n",
              " 'b1': array([[0.00311451],\n",
              "        [0.00311451]]),\n",
              " 'W2': array([[0.14657196],\n",
              "        [0.1469198 ]]),\n",
              " 'b2': array([[0.15772046]])}"
            ]
          },
          "metadata": {},
          "execution_count": 66
        }
      ]
    },
    {
      "cell_type": "code",
      "source": [
        "X = df[['cgpa', 'profile_score']].values[3].reshape(2,1) # Shape(no of features, no. of training example)\n",
        "y = df[['lpa']].values[3][0]\n",
        "\n",
        "y_hat,A1 = L_layer_forward(X, parameters)\n",
        "\n",
        "update_parameters(parameters,y,y_hat,A1,X)\n",
        "\n",
        "parameters"
      ],
      "metadata": {
        "colab": {
          "base_uri": "https://localhost:8080/"
        },
        "id": "apr_B7VSyAE6",
        "outputId": "adee6438-c54e-49ae-92bf-b53c0314331d"
      },
      "execution_count": 67,
      "outputs": [
        {
          "output_type": "stream",
          "name": "stdout",
          "text": [
            "A0:  [[ 5]\n",
            " [12]]\n",
            "W1:  [[0.12116546 0.12866664]\n",
            " [0.12116546 0.12866664]]\n",
            "b1:  [[0.00311451]\n",
            " [0.00311451]]\n",
            "----------------------------------------\n",
            "A1:  [[2.06292732]\n",
            " [2.19044743]]\n",
            "****************************************\n",
            "A1:  [[2.06292732]\n",
            " [2.19044743]]\n",
            "W2:  [[0.14657196]\n",
            " [0.1469198 ]]\n",
            "b2:  [[0.15772046]]\n",
            "----------------------------------------\n",
            "A2:  [[0.78190784]]\n",
            "****************************************\n"
          ]
        },
        {
          "output_type": "execute_result",
          "data": {
            "text/plain": [
              "{'W1': array([[0.13027944, 0.15054019],\n",
              "        [0.13030107, 0.1505921 ]]),\n",
              " 'b1': array([[0.0049373 ],\n",
              "        [0.00494163]]),\n",
              " 'W2': array([[0.1722269],\n",
              "        [0.1741606]]),\n",
              " 'b2': array([[0.18659679]])}"
            ]
          },
          "metadata": {},
          "execution_count": 67
        }
      ]
    },
    {
      "cell_type": "code",
      "source": [
        "# epochs implementation\n",
        "\n",
        "parameters = initialize_parameters([2,2,1])\n",
        "epochs = 10\n",
        "\n",
        "for i in range(epochs):\n",
        "\n",
        "  Loss = []\n",
        "\n",
        "  for j in range(df.shape[0]):\n",
        "\n",
        "    X = df[['cgpa', 'profile_score']].values[j].reshape(2,1) # Shape(no of features, no. of training example)\n",
        "    y = df[['lpa']].values[j][0]\n",
        "\n",
        "    # Parameter initialization\n",
        "\n",
        "\n",
        "    y_hat,A1 = L_layer_forward(X,parameters)\n",
        "    y_hat = y_hat[0][0]\n",
        "\n",
        "    update_parameters(parameters,y,y_hat,A1,X)\n",
        "\n",
        "    Loss.append((y-y_hat)**2)\n",
        "\n",
        "  print('Epoch - ',i+1,'Loss - ',np.array(Loss).mean())\n",
        "\n",
        "parameters"
      ],
      "metadata": {
        "colab": {
          "base_uri": "https://localhost:8080/"
        },
        "id": "W6xWKDMlyFTT",
        "outputId": "c5d80728-72ac-45b9-9d3c-a248bbc0e644"
      },
      "execution_count": 79,
      "outputs": [
        {
          "output_type": "stream",
          "name": "stdout",
          "text": [
            "Epoch -  1 Loss -  25.409563722056774\n",
            "Epoch -  2 Loss -  18.915978403231257\n",
            "Epoch -  3 Loss -  10.52545812042183\n",
            "Epoch -  4 Loss -  3.945608517868013\n",
            "Epoch -  5 Loss -  1.5057565023949806\n",
            "Epoch -  6 Loss -  1.1802354966225144\n",
            "Epoch -  7 Loss -  1.2297421058817344\n",
            "Epoch -  8 Loss -  1.2709349027067218\n",
            "Epoch -  9 Loss -  1.2878911275864011\n",
            "Epoch -  10 Loss -  1.2945367346256915\n"
          ]
        },
        {
          "output_type": "execute_result",
          "data": {
            "text/plain": [
              "{'W1': array([[0.24709081, 0.41156051],\n",
              "        [0.2548656 , 0.43654761]]),\n",
              " 'b1': array([[0.02768783],\n",
              "        [0.02962556]]),\n",
              " 'W2': array([[0.43140732],\n",
              "        [0.50962022]]),\n",
              " 'b2': array([[0.51210776]])}"
            ]
          },
          "metadata": {},
          "execution_count": 79
        }
      ]
    },
    {
      "cell_type": "code",
      "source": [
        " #now implementing same thing using keras"
      ],
      "metadata": {
        "id": "Qus0AlOdy8Ns"
      },
      "execution_count": 78,
      "outputs": []
    },
    {
      "cell_type": "code",
      "source": [
        "import tensorflow\n",
        "from tensorflow import keras\n",
        "from keras import Sequential\n",
        "from keras.layers import Dense"
      ],
      "metadata": {
        "id": "ZNZJq6af0osB"
      },
      "execution_count": 80,
      "outputs": []
    },
    {
      "cell_type": "code",
      "source": [
        "model=Sequential()\n",
        "\n",
        "model.add(Dense(2,activation='linear',input_dim=2))\n",
        "model.add(Dense(1,activation='linear'))"
      ],
      "metadata": {
        "id": "z231juF01A6b"
      },
      "execution_count": 81,
      "outputs": []
    },
    {
      "cell_type": "code",
      "source": [
        "model.summary()"
      ],
      "metadata": {
        "colab": {
          "base_uri": "https://localhost:8080/"
        },
        "id": "LnUz00i51Py4",
        "outputId": "0b52d2ee-7b9b-43a3-a6a9-71a7ba563fec"
      },
      "execution_count": 82,
      "outputs": [
        {
          "output_type": "stream",
          "name": "stdout",
          "text": [
            "Model: \"sequential\"\n",
            "_________________________________________________________________\n",
            " Layer (type)                Output Shape              Param #   \n",
            "=================================================================\n",
            " dense (Dense)               (None, 2)                 6         \n",
            "                                                                 \n",
            " dense_1 (Dense)             (None, 1)                 3         \n",
            "                                                                 \n",
            "=================================================================\n",
            "Total params: 9 (36.00 Byte)\n",
            "Trainable params: 9 (36.00 Byte)\n",
            "Non-trainable params: 0 (0.00 Byte)\n",
            "_________________________________________________________________\n"
          ]
        }
      ]
    },
    {
      "cell_type": "code",
      "source": [
        "model.get_weights()"
      ],
      "metadata": {
        "colab": {
          "base_uri": "https://localhost:8080/"
        },
        "id": "_Lfn00KC1Q-6",
        "outputId": "276f0083-23a3-4461-d72b-01b7886fd8eb"
      },
      "execution_count": 85,
      "outputs": [
        {
          "output_type": "execute_result",
          "data": {
            "text/plain": [
              "[array([[-0.29891628,  0.18421328],\n",
              "        [ 0.53691804,  1.205268  ]], dtype=float32),\n",
              " array([0., 0.], dtype=float32),\n",
              " array([[ 0.87172425],\n",
              "        [-1.4129376 ]], dtype=float32),\n",
              " array([0.], dtype=float32)]"
            ]
          },
          "metadata": {},
          "execution_count": 85
        }
      ]
    },
    {
      "cell_type": "code",
      "source": [
        "new_weights=[np.array([[0.1,  0.1],\n",
        "        [ 0.1,0.1]], dtype=np.float32),\n",
        " np.array([0., 0.], dtype=np.float32),\n",
        " np.array([[ 0.1],\n",
        "        [0.1 ]], dtype=np.float32),\n",
        " np.array([0.], dtype=np.float32)]"
      ],
      "metadata": {
        "id": "RSlJXN8S1Vf3"
      },
      "execution_count": 120,
      "outputs": []
    },
    {
      "cell_type": "code",
      "source": [
        "model.set_weights(new_weights)"
      ],
      "metadata": {
        "id": "B5MYM8vq1vAE"
      },
      "execution_count": 125,
      "outputs": []
    },
    {
      "cell_type": "code",
      "source": [
        "model.get_weights()"
      ],
      "metadata": {
        "colab": {
          "base_uri": "https://localhost:8080/"
        },
        "id": "HWyMdNAi2NbO",
        "outputId": "d321c906-490e-4020-f12a-c2809f4ea6ac"
      },
      "execution_count": 129,
      "outputs": [
        {
          "output_type": "execute_result",
          "data": {
            "text/plain": [
              "[array([[0.37851873, 0.37851873],\n",
              "        [0.37269378, 0.37269378]], dtype=float32),\n",
              " array([0.2785926, 0.2785926], dtype=float32),\n",
              " array([[0.37932637],\n",
              "        [0.37932637]], dtype=float32),\n",
              " array([0.20835969], dtype=float32)]"
            ]
          },
          "metadata": {},
          "execution_count": 129
        }
      ]
    },
    {
      "cell_type": "code",
      "source": [
        "optimizer=keras.optimizers.Adam(learning_rate=0.001)\n",
        "model.compile(loss='mean_squared_error',optimizer=optimizer)"
      ],
      "metadata": {
        "id": "69Ow3YTV2QOK"
      },
      "execution_count": 127,
      "outputs": []
    },
    {
      "cell_type": "code",
      "source": [
        "model.fit(df.iloc[:,0:-1].values,df['lpa'].values,verbose=1,epochs=80,batch_size=1)"
      ],
      "metadata": {
        "colab": {
          "base_uri": "https://localhost:8080/"
        },
        "id": "drHOa6HW2xnp",
        "outputId": "ae0d28a0-9f6c-49af-86e0-6d253296e784"
      },
      "execution_count": 128,
      "outputs": [
        {
          "output_type": "stream",
          "name": "stdout",
          "text": [
            "Epoch 1/80\n",
            "4/4 [==============================] - 1s 4ms/step - loss: 27.8792\n",
            "Epoch 2/80\n",
            "4/4 [==============================] - 0s 4ms/step - loss: 27.5657\n",
            "Epoch 3/80\n",
            "4/4 [==============================] - 0s 4ms/step - loss: 27.2586\n",
            "Epoch 4/80\n",
            "4/4 [==============================] - 0s 3ms/step - loss: 26.8990\n",
            "Epoch 5/80\n",
            "4/4 [==============================] - 0s 3ms/step - loss: 26.5536\n",
            "Epoch 6/80\n",
            "4/4 [==============================] - 0s 4ms/step - loss: 26.2172\n",
            "Epoch 7/80\n",
            "4/4 [==============================] - 0s 3ms/step - loss: 25.8350\n",
            "Epoch 8/80\n",
            "4/4 [==============================] - 0s 3ms/step - loss: 25.4337\n",
            "Epoch 9/80\n",
            "4/4 [==============================] - 0s 4ms/step - loss: 25.0734\n",
            "Epoch 10/80\n",
            "4/4 [==============================] - 0s 3ms/step - loss: 24.6461\n",
            "Epoch 11/80\n",
            "4/4 [==============================] - 0s 4ms/step - loss: 24.2490\n",
            "Epoch 12/80\n",
            "4/4 [==============================] - 0s 3ms/step - loss: 23.7949\n",
            "Epoch 13/80\n",
            "4/4 [==============================] - 0s 4ms/step - loss: 23.3766\n",
            "Epoch 14/80\n",
            "4/4 [==============================] - 0s 3ms/step - loss: 22.9244\n",
            "Epoch 15/80\n",
            "4/4 [==============================] - 0s 4ms/step - loss: 22.4593\n",
            "Epoch 16/80\n",
            "4/4 [==============================] - 0s 4ms/step - loss: 22.0504\n",
            "Epoch 17/80\n",
            "4/4 [==============================] - 0s 4ms/step - loss: 21.5655\n",
            "Epoch 18/80\n",
            "4/4 [==============================] - 0s 3ms/step - loss: 21.0604\n",
            "Epoch 19/80\n",
            "4/4 [==============================] - 0s 4ms/step - loss: 20.5967\n",
            "Epoch 20/80\n",
            "4/4 [==============================] - 0s 4ms/step - loss: 20.0519\n",
            "Epoch 21/80\n",
            "4/4 [==============================] - 0s 4ms/step - loss: 19.5639\n",
            "Epoch 22/80\n",
            "4/4 [==============================] - 0s 3ms/step - loss: 19.0435\n",
            "Epoch 23/80\n",
            "4/4 [==============================] - 0s 3ms/step - loss: 18.5897\n",
            "Epoch 24/80\n",
            "4/4 [==============================] - 0s 3ms/step - loss: 17.9983\n",
            "Epoch 25/80\n",
            "4/4 [==============================] - 0s 4ms/step - loss: 17.5440\n",
            "Epoch 26/80\n",
            "4/4 [==============================] - 0s 4ms/step - loss: 16.9969\n",
            "Epoch 27/80\n",
            "4/4 [==============================] - 0s 4ms/step - loss: 16.4547\n",
            "Epoch 28/80\n",
            "4/4 [==============================] - 0s 4ms/step - loss: 15.9196\n",
            "Epoch 29/80\n",
            "4/4 [==============================] - 0s 4ms/step - loss: 15.4343\n",
            "Epoch 30/80\n",
            "4/4 [==============================] - 0s 4ms/step - loss: 14.8881\n",
            "Epoch 31/80\n",
            "4/4 [==============================] - 0s 4ms/step - loss: 14.3270\n",
            "Epoch 32/80\n",
            "4/4 [==============================] - 0s 5ms/step - loss: 13.8713\n",
            "Epoch 33/80\n",
            "4/4 [==============================] - 0s 5ms/step - loss: 13.3083\n",
            "Epoch 34/80\n",
            "4/4 [==============================] - 0s 4ms/step - loss: 12.7828\n",
            "Epoch 35/80\n",
            "4/4 [==============================] - 0s 4ms/step - loss: 12.3051\n",
            "Epoch 36/80\n",
            "4/4 [==============================] - 0s 4ms/step - loss: 11.8473\n",
            "Epoch 37/80\n",
            "4/4 [==============================] - 0s 4ms/step - loss: 11.3140\n",
            "Epoch 38/80\n",
            "4/4 [==============================] - 0s 5ms/step - loss: 10.7868\n",
            "Epoch 39/80\n",
            "4/4 [==============================] - 0s 4ms/step - loss: 10.3693\n",
            "Epoch 40/80\n",
            "4/4 [==============================] - 0s 4ms/step - loss: 9.8869\n",
            "Epoch 41/80\n",
            "4/4 [==============================] - 0s 4ms/step - loss: 9.3989\n",
            "Epoch 42/80\n",
            "4/4 [==============================] - 0s 4ms/step - loss: 8.9941\n",
            "Epoch 43/80\n",
            "4/4 [==============================] - 0s 5ms/step - loss: 8.5151\n",
            "Epoch 44/80\n",
            "4/4 [==============================] - 0s 5ms/step - loss: 8.1057\n",
            "Epoch 45/80\n",
            "4/4 [==============================] - 0s 5ms/step - loss: 7.7224\n",
            "Epoch 46/80\n",
            "4/4 [==============================] - 0s 4ms/step - loss: 7.3352\n",
            "Epoch 47/80\n",
            "4/4 [==============================] - 0s 4ms/step - loss: 6.9327\n",
            "Epoch 48/80\n",
            "4/4 [==============================] - 0s 6ms/step - loss: 6.5755\n",
            "Epoch 49/80\n",
            "4/4 [==============================] - 0s 4ms/step - loss: 6.1405\n",
            "Epoch 50/80\n",
            "4/4 [==============================] - 0s 5ms/step - loss: 5.8620\n",
            "Epoch 51/80\n",
            "4/4 [==============================] - 0s 5ms/step - loss: 5.5547\n",
            "Epoch 52/80\n",
            "4/4 [==============================] - 0s 4ms/step - loss: 5.2224\n",
            "Epoch 53/80\n",
            "4/4 [==============================] - 0s 4ms/step - loss: 4.9129\n",
            "Epoch 54/80\n",
            "4/4 [==============================] - 0s 4ms/step - loss: 4.6365\n",
            "Epoch 55/80\n",
            "4/4 [==============================] - 0s 4ms/step - loss: 4.3346\n",
            "Epoch 56/80\n",
            "4/4 [==============================] - 0s 5ms/step - loss: 4.0963\n",
            "Epoch 57/80\n",
            "4/4 [==============================] - 0s 4ms/step - loss: 3.8407\n",
            "Epoch 58/80\n",
            "4/4 [==============================] - 0s 4ms/step - loss: 3.6011\n",
            "Epoch 59/80\n",
            "4/4 [==============================] - 0s 5ms/step - loss: 3.4229\n",
            "Epoch 60/80\n",
            "4/4 [==============================] - 0s 6ms/step - loss: 3.1956\n",
            "Epoch 61/80\n",
            "4/4 [==============================] - 0s 4ms/step - loss: 3.0133\n",
            "Epoch 62/80\n",
            "4/4 [==============================] - 0s 4ms/step - loss: 2.8669\n",
            "Epoch 63/80\n",
            "4/4 [==============================] - 0s 4ms/step - loss: 2.6795\n",
            "Epoch 64/80\n",
            "4/4 [==============================] - 0s 4ms/step - loss: 2.5597\n",
            "Epoch 65/80\n",
            "4/4 [==============================] - 0s 6ms/step - loss: 2.3831\n",
            "Epoch 66/80\n",
            "4/4 [==============================] - 0s 4ms/step - loss: 2.2686\n",
            "Epoch 67/80\n",
            "4/4 [==============================] - 0s 6ms/step - loss: 2.1317\n",
            "Epoch 68/80\n",
            "4/4 [==============================] - 0s 5ms/step - loss: 2.0567\n",
            "Epoch 69/80\n",
            "4/4 [==============================] - 0s 5ms/step - loss: 1.9160\n",
            "Epoch 70/80\n",
            "4/4 [==============================] - 0s 5ms/step - loss: 1.8476\n",
            "Epoch 71/80\n",
            "4/4 [==============================] - 0s 5ms/step - loss: 1.7878\n",
            "Epoch 72/80\n",
            "4/4 [==============================] - 0s 4ms/step - loss: 1.6819\n",
            "Epoch 73/80\n",
            "4/4 [==============================] - 0s 4ms/step - loss: 1.6317\n",
            "Epoch 74/80\n",
            "4/4 [==============================] - 0s 5ms/step - loss: 1.5389\n",
            "Epoch 75/80\n",
            "4/4 [==============================] - 0s 5ms/step - loss: 1.4999\n",
            "Epoch 76/80\n",
            "4/4 [==============================] - 0s 4ms/step - loss: 1.4470\n",
            "Epoch 77/80\n",
            "4/4 [==============================] - 0s 4ms/step - loss: 1.3840\n",
            "Epoch 78/80\n",
            "4/4 [==============================] - 0s 4ms/step - loss: 1.3500\n",
            "Epoch 79/80\n",
            "4/4 [==============================] - 0s 4ms/step - loss: 1.3095\n",
            "Epoch 80/80\n",
            "4/4 [==============================] - 0s 4ms/step - loss: 1.2782\n"
          ]
        },
        {
          "output_type": "execute_result",
          "data": {
            "text/plain": [
              "<keras.src.callbacks.History at 0x7db59d141450>"
            ]
          },
          "metadata": {},
          "execution_count": 128
        }
      ]
    },
    {
      "cell_type": "code",
      "source": [
        "#in keras it took more epochs to get to the loss that was achieved with mannual coding with very less epochs"
      ],
      "metadata": {
        "id": "RB7VUdTA3V_V"
      },
      "execution_count": null,
      "outputs": []
    }
  ]
}