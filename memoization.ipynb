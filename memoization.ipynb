{
  "nbformat": 4,
  "nbformat_minor": 0,
  "metadata": {
    "colab": {
      "provenance": []
    },
    "kernelspec": {
      "name": "python3",
      "display_name": "Python 3"
    },
    "language_info": {
      "name": "python"
    }
  },
  "cells": [
    {
      "cell_type": "code",
      "execution_count": 23,
      "metadata": {
        "id": "YtWlpNbcdhca"
      },
      "outputs": [],
      "source": [
        "#without memoization\n",
        "import time\n",
        "def fib(n):\n",
        "  if n==0 or n==1:\n",
        "    return 1\n",
        "  else:\n",
        "    return fib(n-1)+fib(n-2)\n"
      ]
    },
    {
      "cell_type": "code",
      "source": [
        "start=time.time()\n",
        "fib(42)\n",
        "print(time.time()-start)"
      ],
      "metadata": {
        "colab": {
          "base_uri": "https://localhost:8080/"
        },
        "id": "D-u5KtS6eCwL",
        "outputId": "58a91b6a-d624-48de-c828-6454800a823a"
      },
      "execution_count": 24,
      "outputs": [
        {
          "output_type": "stream",
          "name": "stdout",
          "text": [
            "150.08890795707703\n"
          ]
        }
      ]
    },
    {
      "cell_type": "code",
      "source": [
        "#with memoization\n",
        "def fib(n,d):\n",
        "  if n in d:\n",
        "    return d[n]\n",
        "  else:\n",
        "    d[n]=fib(n-1,d)+fib(n-2,d)\n",
        "    return d[n]\n"
      ],
      "metadata": {
        "id": "7_DLMlVNeDtc"
      },
      "execution_count": 11,
      "outputs": []
    },
    {
      "cell_type": "code",
      "source": [
        "d={0:1,1:1}\n",
        "\n",
        "start=time.time()\n",
        "fib(40,d)\n",
        "print(time.time()-start)"
      ],
      "metadata": {
        "colab": {
          "base_uri": "https://localhost:8080/"
        },
        "id": "ft_uffMrfF2G",
        "outputId": "fdeec427-b45f-41a7-f4bc-70bdeac7d2a4"
      },
      "execution_count": 21,
      "outputs": [
        {
          "output_type": "stream",
          "name": "stdout",
          "text": [
            "0.000141143798828125\n"
          ]
        }
      ]
    },
    {
      "cell_type": "code",
      "source": [],
      "metadata": {
        "id": "1gcR-YVbfOAr"
      },
      "execution_count": null,
      "outputs": []
    }
  ]
}