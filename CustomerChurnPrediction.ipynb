{
  "nbformat": 4,
  "nbformat_minor": 0,
  "metadata": {
    "colab": {
      "provenance": []
    },
    "kernelspec": {
      "name": "python3",
      "display_name": "Python 3"
    },
    "language_info": {
      "name": "python"
    }
  },
  "cells": [
    {
      "cell_type": "code",
      "execution_count": 87,
      "metadata": {
        "colab": {
          "base_uri": "https://localhost:8080/"
        },
        "id": "h1ZRQDi1KGHM",
        "outputId": "b4f5075b-aded-4aa3-dd09-54c61ee29a1b"
      },
      "outputs": [
        {
          "output_type": "stream",
          "name": "stdout",
          "text": [
            "mkdir: cannot create directory ‘/root/.kaggle’: File exists\n"
          ]
        }
      ],
      "source": [
        "! mkdir ~/.kaggle\n",
        "\n",
        "! cp kaggle.json ~/.kaggle/"
      ]
    },
    {
      "cell_type": "code",
      "source": [
        "!kaggle datasets download -d shrutimechlearn/churn-modelling"
      ],
      "metadata": {
        "colab": {
          "base_uri": "https://localhost:8080/"
        },
        "id": "7lBz13CQKtRz",
        "outputId": "dc63b653-c0a7-4ef7-c6ad-95994a721983"
      },
      "execution_count": 88,
      "outputs": [
        {
          "output_type": "stream",
          "name": "stdout",
          "text": [
            "Warning: Your Kaggle API key is readable by other users on this system! To fix this, you can run 'chmod 600 /root/.kaggle/kaggle.json'\n",
            "churn-modelling.zip: Skipping, found more recently modified local copy (use --force to force download)\n"
          ]
        }
      ]
    },
    {
      "cell_type": "code",
      "source": [
        "#for unzipping\n",
        "\n",
        "import zipfile\n",
        "zip_ref = zipfile.ZipFile('/content/churn-modelling.zip', 'r')\n",
        "zip_ref.extractall('/content')\n",
        "zip_ref.close()"
      ],
      "metadata": {
        "id": "2LeH0kUaLvVU"
      },
      "execution_count": 89,
      "outputs": []
    },
    {
      "cell_type": "code",
      "source": [
        "import numpy as np\n",
        "import pandas as pd"
      ],
      "metadata": {
        "id": "lETBkazZLjvg"
      },
      "execution_count": 90,
      "outputs": []
    },
    {
      "cell_type": "code",
      "source": [
        "df = pd.read_csv('/content/Churn_Modelling.csv')\n"
      ],
      "metadata": {
        "id": "7Aif5mCDK_RS"
      },
      "execution_count": 91,
      "outputs": []
    },
    {
      "cell_type": "code",
      "source": [
        "df.head()"
      ],
      "metadata": {
        "colab": {
          "base_uri": "https://localhost:8080/",
          "height": 226
        },
        "id": "HPr9jajQL4mB",
        "outputId": "33f7e8f4-361f-40a2-e6be-fbb8b6cfee64"
      },
      "execution_count": 92,
      "outputs": [
        {
          "output_type": "execute_result",
          "data": {
            "text/plain": [
              "   RowNumber  CustomerId   Surname  CreditScore Geography  Gender  Age  \\\n",
              "0          1    15634602  Hargrave          619    France  Female   42   \n",
              "1          2    15647311      Hill          608     Spain  Female   41   \n",
              "2          3    15619304      Onio          502    France  Female   42   \n",
              "3          4    15701354      Boni          699    France  Female   39   \n",
              "4          5    15737888  Mitchell          850     Spain  Female   43   \n",
              "\n",
              "   Tenure    Balance  NumOfProducts  HasCrCard  IsActiveMember  \\\n",
              "0       2       0.00              1          1               1   \n",
              "1       1   83807.86              1          0               1   \n",
              "2       8  159660.80              3          1               0   \n",
              "3       1       0.00              2          0               0   \n",
              "4       2  125510.82              1          1               1   \n",
              "\n",
              "   EstimatedSalary  Exited  \n",
              "0        101348.88       1  \n",
              "1        112542.58       0  \n",
              "2        113931.57       1  \n",
              "3         93826.63       0  \n",
              "4         79084.10       0  "
            ],
            "text/html": [
              "\n",
              "  <div id=\"df-ee232011-292e-49a5-a168-6c7d5066dbef\" class=\"colab-df-container\">\n",
              "    <div>\n",
              "<style scoped>\n",
              "    .dataframe tbody tr th:only-of-type {\n",
              "        vertical-align: middle;\n",
              "    }\n",
              "\n",
              "    .dataframe tbody tr th {\n",
              "        vertical-align: top;\n",
              "    }\n",
              "\n",
              "    .dataframe thead th {\n",
              "        text-align: right;\n",
              "    }\n",
              "</style>\n",
              "<table border=\"1\" class=\"dataframe\">\n",
              "  <thead>\n",
              "    <tr style=\"text-align: right;\">\n",
              "      <th></th>\n",
              "      <th>RowNumber</th>\n",
              "      <th>CustomerId</th>\n",
              "      <th>Surname</th>\n",
              "      <th>CreditScore</th>\n",
              "      <th>Geography</th>\n",
              "      <th>Gender</th>\n",
              "      <th>Age</th>\n",
              "      <th>Tenure</th>\n",
              "      <th>Balance</th>\n",
              "      <th>NumOfProducts</th>\n",
              "      <th>HasCrCard</th>\n",
              "      <th>IsActiveMember</th>\n",
              "      <th>EstimatedSalary</th>\n",
              "      <th>Exited</th>\n",
              "    </tr>\n",
              "  </thead>\n",
              "  <tbody>\n",
              "    <tr>\n",
              "      <th>0</th>\n",
              "      <td>1</td>\n",
              "      <td>15634602</td>\n",
              "      <td>Hargrave</td>\n",
              "      <td>619</td>\n",
              "      <td>France</td>\n",
              "      <td>Female</td>\n",
              "      <td>42</td>\n",
              "      <td>2</td>\n",
              "      <td>0.00</td>\n",
              "      <td>1</td>\n",
              "      <td>1</td>\n",
              "      <td>1</td>\n",
              "      <td>101348.88</td>\n",
              "      <td>1</td>\n",
              "    </tr>\n",
              "    <tr>\n",
              "      <th>1</th>\n",
              "      <td>2</td>\n",
              "      <td>15647311</td>\n",
              "      <td>Hill</td>\n",
              "      <td>608</td>\n",
              "      <td>Spain</td>\n",
              "      <td>Female</td>\n",
              "      <td>41</td>\n",
              "      <td>1</td>\n",
              "      <td>83807.86</td>\n",
              "      <td>1</td>\n",
              "      <td>0</td>\n",
              "      <td>1</td>\n",
              "      <td>112542.58</td>\n",
              "      <td>0</td>\n",
              "    </tr>\n",
              "    <tr>\n",
              "      <th>2</th>\n",
              "      <td>3</td>\n",
              "      <td>15619304</td>\n",
              "      <td>Onio</td>\n",
              "      <td>502</td>\n",
              "      <td>France</td>\n",
              "      <td>Female</td>\n",
              "      <td>42</td>\n",
              "      <td>8</td>\n",
              "      <td>159660.80</td>\n",
              "      <td>3</td>\n",
              "      <td>1</td>\n",
              "      <td>0</td>\n",
              "      <td>113931.57</td>\n",
              "      <td>1</td>\n",
              "    </tr>\n",
              "    <tr>\n",
              "      <th>3</th>\n",
              "      <td>4</td>\n",
              "      <td>15701354</td>\n",
              "      <td>Boni</td>\n",
              "      <td>699</td>\n",
              "      <td>France</td>\n",
              "      <td>Female</td>\n",
              "      <td>39</td>\n",
              "      <td>1</td>\n",
              "      <td>0.00</td>\n",
              "      <td>2</td>\n",
              "      <td>0</td>\n",
              "      <td>0</td>\n",
              "      <td>93826.63</td>\n",
              "      <td>0</td>\n",
              "    </tr>\n",
              "    <tr>\n",
              "      <th>4</th>\n",
              "      <td>5</td>\n",
              "      <td>15737888</td>\n",
              "      <td>Mitchell</td>\n",
              "      <td>850</td>\n",
              "      <td>Spain</td>\n",
              "      <td>Female</td>\n",
              "      <td>43</td>\n",
              "      <td>2</td>\n",
              "      <td>125510.82</td>\n",
              "      <td>1</td>\n",
              "      <td>1</td>\n",
              "      <td>1</td>\n",
              "      <td>79084.10</td>\n",
              "      <td>0</td>\n",
              "    </tr>\n",
              "  </tbody>\n",
              "</table>\n",
              "</div>\n",
              "    <div class=\"colab-df-buttons\">\n",
              "\n",
              "  <div class=\"colab-df-container\">\n",
              "    <button class=\"colab-df-convert\" onclick=\"convertToInteractive('df-ee232011-292e-49a5-a168-6c7d5066dbef')\"\n",
              "            title=\"Convert this dataframe to an interactive table.\"\n",
              "            style=\"display:none;\">\n",
              "\n",
              "  <svg xmlns=\"http://www.w3.org/2000/svg\" height=\"24px\" viewBox=\"0 -960 960 960\">\n",
              "    <path d=\"M120-120v-720h720v720H120Zm60-500h600v-160H180v160Zm220 220h160v-160H400v160Zm0 220h160v-160H400v160ZM180-400h160v-160H180v160Zm440 0h160v-160H620v160ZM180-180h160v-160H180v160Zm440 0h160v-160H620v160Z\"/>\n",
              "  </svg>\n",
              "    </button>\n",
              "\n",
              "  <style>\n",
              "    .colab-df-container {\n",
              "      display:flex;\n",
              "      gap: 12px;\n",
              "    }\n",
              "\n",
              "    .colab-df-convert {\n",
              "      background-color: #E8F0FE;\n",
              "      border: none;\n",
              "      border-radius: 50%;\n",
              "      cursor: pointer;\n",
              "      display: none;\n",
              "      fill: #1967D2;\n",
              "      height: 32px;\n",
              "      padding: 0 0 0 0;\n",
              "      width: 32px;\n",
              "    }\n",
              "\n",
              "    .colab-df-convert:hover {\n",
              "      background-color: #E2EBFA;\n",
              "      box-shadow: 0px 1px 2px rgba(60, 64, 67, 0.3), 0px 1px 3px 1px rgba(60, 64, 67, 0.15);\n",
              "      fill: #174EA6;\n",
              "    }\n",
              "\n",
              "    .colab-df-buttons div {\n",
              "      margin-bottom: 4px;\n",
              "    }\n",
              "\n",
              "    [theme=dark] .colab-df-convert {\n",
              "      background-color: #3B4455;\n",
              "      fill: #D2E3FC;\n",
              "    }\n",
              "\n",
              "    [theme=dark] .colab-df-convert:hover {\n",
              "      background-color: #434B5C;\n",
              "      box-shadow: 0px 1px 3px 1px rgba(0, 0, 0, 0.15);\n",
              "      filter: drop-shadow(0px 1px 2px rgba(0, 0, 0, 0.3));\n",
              "      fill: #FFFFFF;\n",
              "    }\n",
              "  </style>\n",
              "\n",
              "    <script>\n",
              "      const buttonEl =\n",
              "        document.querySelector('#df-ee232011-292e-49a5-a168-6c7d5066dbef button.colab-df-convert');\n",
              "      buttonEl.style.display =\n",
              "        google.colab.kernel.accessAllowed ? 'block' : 'none';\n",
              "\n",
              "      async function convertToInteractive(key) {\n",
              "        const element = document.querySelector('#df-ee232011-292e-49a5-a168-6c7d5066dbef');\n",
              "        const dataTable =\n",
              "          await google.colab.kernel.invokeFunction('convertToInteractive',\n",
              "                                                    [key], {});\n",
              "        if (!dataTable) return;\n",
              "\n",
              "        const docLinkHtml = 'Like what you see? Visit the ' +\n",
              "          '<a target=\"_blank\" href=https://colab.research.google.com/notebooks/data_table.ipynb>data table notebook</a>'\n",
              "          + ' to learn more about interactive tables.';\n",
              "        element.innerHTML = '';\n",
              "        dataTable['output_type'] = 'display_data';\n",
              "        await google.colab.output.renderOutput(dataTable, element);\n",
              "        const docLink = document.createElement('div');\n",
              "        docLink.innerHTML = docLinkHtml;\n",
              "        element.appendChild(docLink);\n",
              "      }\n",
              "    </script>\n",
              "  </div>\n",
              "\n",
              "\n",
              "<div id=\"df-933371a5-501b-4b04-8f36-8397ec6e2cf8\">\n",
              "  <button class=\"colab-df-quickchart\" onclick=\"quickchart('df-933371a5-501b-4b04-8f36-8397ec6e2cf8')\"\n",
              "            title=\"Suggest charts.\"\n",
              "            style=\"display:none;\">\n",
              "\n",
              "<svg xmlns=\"http://www.w3.org/2000/svg\" height=\"24px\"viewBox=\"0 0 24 24\"\n",
              "     width=\"24px\">\n",
              "    <g>\n",
              "        <path d=\"M19 3H5c-1.1 0-2 .9-2 2v14c0 1.1.9 2 2 2h14c1.1 0 2-.9 2-2V5c0-1.1-.9-2-2-2zM9 17H7v-7h2v7zm4 0h-2V7h2v10zm4 0h-2v-4h2v4z\"/>\n",
              "    </g>\n",
              "</svg>\n",
              "  </button>\n",
              "\n",
              "<style>\n",
              "  .colab-df-quickchart {\n",
              "      --bg-color: #E8F0FE;\n",
              "      --fill-color: #1967D2;\n",
              "      --hover-bg-color: #E2EBFA;\n",
              "      --hover-fill-color: #174EA6;\n",
              "      --disabled-fill-color: #AAA;\n",
              "      --disabled-bg-color: #DDD;\n",
              "  }\n",
              "\n",
              "  [theme=dark] .colab-df-quickchart {\n",
              "      --bg-color: #3B4455;\n",
              "      --fill-color: #D2E3FC;\n",
              "      --hover-bg-color: #434B5C;\n",
              "      --hover-fill-color: #FFFFFF;\n",
              "      --disabled-bg-color: #3B4455;\n",
              "      --disabled-fill-color: #666;\n",
              "  }\n",
              "\n",
              "  .colab-df-quickchart {\n",
              "    background-color: var(--bg-color);\n",
              "    border: none;\n",
              "    border-radius: 50%;\n",
              "    cursor: pointer;\n",
              "    display: none;\n",
              "    fill: var(--fill-color);\n",
              "    height: 32px;\n",
              "    padding: 0;\n",
              "    width: 32px;\n",
              "  }\n",
              "\n",
              "  .colab-df-quickchart:hover {\n",
              "    background-color: var(--hover-bg-color);\n",
              "    box-shadow: 0 1px 2px rgba(60, 64, 67, 0.3), 0 1px 3px 1px rgba(60, 64, 67, 0.15);\n",
              "    fill: var(--button-hover-fill-color);\n",
              "  }\n",
              "\n",
              "  .colab-df-quickchart-complete:disabled,\n",
              "  .colab-df-quickchart-complete:disabled:hover {\n",
              "    background-color: var(--disabled-bg-color);\n",
              "    fill: var(--disabled-fill-color);\n",
              "    box-shadow: none;\n",
              "  }\n",
              "\n",
              "  .colab-df-spinner {\n",
              "    border: 2px solid var(--fill-color);\n",
              "    border-color: transparent;\n",
              "    border-bottom-color: var(--fill-color);\n",
              "    animation:\n",
              "      spin 1s steps(1) infinite;\n",
              "  }\n",
              "\n",
              "  @keyframes spin {\n",
              "    0% {\n",
              "      border-color: transparent;\n",
              "      border-bottom-color: var(--fill-color);\n",
              "      border-left-color: var(--fill-color);\n",
              "    }\n",
              "    20% {\n",
              "      border-color: transparent;\n",
              "      border-left-color: var(--fill-color);\n",
              "      border-top-color: var(--fill-color);\n",
              "    }\n",
              "    30% {\n",
              "      border-color: transparent;\n",
              "      border-left-color: var(--fill-color);\n",
              "      border-top-color: var(--fill-color);\n",
              "      border-right-color: var(--fill-color);\n",
              "    }\n",
              "    40% {\n",
              "      border-color: transparent;\n",
              "      border-right-color: var(--fill-color);\n",
              "      border-top-color: var(--fill-color);\n",
              "    }\n",
              "    60% {\n",
              "      border-color: transparent;\n",
              "      border-right-color: var(--fill-color);\n",
              "    }\n",
              "    80% {\n",
              "      border-color: transparent;\n",
              "      border-right-color: var(--fill-color);\n",
              "      border-bottom-color: var(--fill-color);\n",
              "    }\n",
              "    90% {\n",
              "      border-color: transparent;\n",
              "      border-bottom-color: var(--fill-color);\n",
              "    }\n",
              "  }\n",
              "</style>\n",
              "\n",
              "  <script>\n",
              "    async function quickchart(key) {\n",
              "      const quickchartButtonEl =\n",
              "        document.querySelector('#' + key + ' button');\n",
              "      quickchartButtonEl.disabled = true;  // To prevent multiple clicks.\n",
              "      quickchartButtonEl.classList.add('colab-df-spinner');\n",
              "      try {\n",
              "        const charts = await google.colab.kernel.invokeFunction(\n",
              "            'suggestCharts', [key], {});\n",
              "      } catch (error) {\n",
              "        console.error('Error during call to suggestCharts:', error);\n",
              "      }\n",
              "      quickchartButtonEl.classList.remove('colab-df-spinner');\n",
              "      quickchartButtonEl.classList.add('colab-df-quickchart-complete');\n",
              "    }\n",
              "    (() => {\n",
              "      let quickchartButtonEl =\n",
              "        document.querySelector('#df-933371a5-501b-4b04-8f36-8397ec6e2cf8 button');\n",
              "      quickchartButtonEl.style.display =\n",
              "        google.colab.kernel.accessAllowed ? 'block' : 'none';\n",
              "    })();\n",
              "  </script>\n",
              "</div>\n",
              "    </div>\n",
              "  </div>\n"
            ]
          },
          "metadata": {},
          "execution_count": 92
        }
      ]
    },
    {
      "cell_type": "code",
      "source": [
        "df.shape"
      ],
      "metadata": {
        "colab": {
          "base_uri": "https://localhost:8080/"
        },
        "id": "cU9ER6UQL9Uu",
        "outputId": "ccff86e7-63b2-4c7b-99b1-f2663c133d0d"
      },
      "execution_count": 93,
      "outputs": [
        {
          "output_type": "execute_result",
          "data": {
            "text/plain": [
              "(10000, 14)"
            ]
          },
          "metadata": {},
          "execution_count": 93
        }
      ]
    },
    {
      "cell_type": "code",
      "source": [
        "df.info()"
      ],
      "metadata": {
        "colab": {
          "base_uri": "https://localhost:8080/"
        },
        "id": "YsykBf7-MAj3",
        "outputId": "94f437d4-351c-45fa-9186-2c2f55f74514"
      },
      "execution_count": 94,
      "outputs": [
        {
          "output_type": "stream",
          "name": "stdout",
          "text": [
            "<class 'pandas.core.frame.DataFrame'>\n",
            "RangeIndex: 10000 entries, 0 to 9999\n",
            "Data columns (total 14 columns):\n",
            " #   Column           Non-Null Count  Dtype  \n",
            "---  ------           --------------  -----  \n",
            " 0   RowNumber        10000 non-null  int64  \n",
            " 1   CustomerId       10000 non-null  int64  \n",
            " 2   Surname          10000 non-null  object \n",
            " 3   CreditScore      10000 non-null  int64  \n",
            " 4   Geography        10000 non-null  object \n",
            " 5   Gender           10000 non-null  object \n",
            " 6   Age              10000 non-null  int64  \n",
            " 7   Tenure           10000 non-null  int64  \n",
            " 8   Balance          10000 non-null  float64\n",
            " 9   NumOfProducts    10000 non-null  int64  \n",
            " 10  HasCrCard        10000 non-null  int64  \n",
            " 11  IsActiveMember   10000 non-null  int64  \n",
            " 12  EstimatedSalary  10000 non-null  float64\n",
            " 13  Exited           10000 non-null  int64  \n",
            "dtypes: float64(2), int64(9), object(3)\n",
            "memory usage: 1.1+ MB\n"
          ]
        }
      ]
    },
    {
      "cell_type": "code",
      "source": [
        "df.duplicated().sum()"
      ],
      "metadata": {
        "colab": {
          "base_uri": "https://localhost:8080/"
        },
        "id": "JjTglYWoMNbS",
        "outputId": "88629b48-c3d2-4aed-e06d-7cc0e154058a"
      },
      "execution_count": 95,
      "outputs": [
        {
          "output_type": "execute_result",
          "data": {
            "text/plain": [
              "0"
            ]
          },
          "metadata": {},
          "execution_count": 95
        }
      ]
    },
    {
      "cell_type": "code",
      "source": [
        "df['Exited'].value_counts()"
      ],
      "metadata": {
        "colab": {
          "base_uri": "https://localhost:8080/"
        },
        "id": "QbhHHRP0MP00",
        "outputId": "fb5ab6fd-efaa-4b4f-d370-9ea2c514ddc6"
      },
      "execution_count": 96,
      "outputs": [
        {
          "output_type": "execute_result",
          "data": {
            "text/plain": [
              "0    7963\n",
              "1    2037\n",
              "Name: Exited, dtype: int64"
            ]
          },
          "metadata": {},
          "execution_count": 96
        }
      ]
    },
    {
      "cell_type": "code",
      "source": [
        "df['Geography'].value_counts()"
      ],
      "metadata": {
        "colab": {
          "base_uri": "https://localhost:8080/"
        },
        "id": "m781aCUcMVYD",
        "outputId": "427fb1eb-5aad-4526-8283-69ec5d471685"
      },
      "execution_count": 97,
      "outputs": [
        {
          "output_type": "execute_result",
          "data": {
            "text/plain": [
              "France     5014\n",
              "Germany    2509\n",
              "Spain      2477\n",
              "Name: Geography, dtype: int64"
            ]
          },
          "metadata": {},
          "execution_count": 97
        }
      ]
    },
    {
      "cell_type": "code",
      "source": [
        "df['Gender'].value_counts()"
      ],
      "metadata": {
        "colab": {
          "base_uri": "https://localhost:8080/"
        },
        "id": "3xwRLTolMiqq",
        "outputId": "9e19d3d3-00ba-44af-a41d-a424d4a545f9"
      },
      "execution_count": 98,
      "outputs": [
        {
          "output_type": "execute_result",
          "data": {
            "text/plain": [
              "Male      5457\n",
              "Female    4543\n",
              "Name: Gender, dtype: int64"
            ]
          },
          "metadata": {},
          "execution_count": 98
        }
      ]
    },
    {
      "cell_type": "code",
      "source": [
        "df.drop(columns = ['RowNumber','CustomerId','Surname'],inplace=True)\n"
      ],
      "metadata": {
        "id": "aBaVDvxKMlyu"
      },
      "execution_count": 99,
      "outputs": []
    },
    {
      "cell_type": "code",
      "source": [
        "df.head()"
      ],
      "metadata": {
        "colab": {
          "base_uri": "https://localhost:8080/",
          "height": 206
        },
        "id": "C0SWPkyWMqB-",
        "outputId": "bfdb54c9-b270-4b0b-c750-bdde14f03c2a"
      },
      "execution_count": 100,
      "outputs": [
        {
          "output_type": "execute_result",
          "data": {
            "text/plain": [
              "   CreditScore Geography  Gender  Age  Tenure    Balance  NumOfProducts  \\\n",
              "0          619    France  Female   42       2       0.00              1   \n",
              "1          608     Spain  Female   41       1   83807.86              1   \n",
              "2          502    France  Female   42       8  159660.80              3   \n",
              "3          699    France  Female   39       1       0.00              2   \n",
              "4          850     Spain  Female   43       2  125510.82              1   \n",
              "\n",
              "   HasCrCard  IsActiveMember  EstimatedSalary  Exited  \n",
              "0          1               1        101348.88       1  \n",
              "1          0               1        112542.58       0  \n",
              "2          1               0        113931.57       1  \n",
              "3          0               0         93826.63       0  \n",
              "4          1               1         79084.10       0  "
            ],
            "text/html": [
              "\n",
              "  <div id=\"df-ac966498-1358-4db6-ac1c-7238eb9dec0e\" class=\"colab-df-container\">\n",
              "    <div>\n",
              "<style scoped>\n",
              "    .dataframe tbody tr th:only-of-type {\n",
              "        vertical-align: middle;\n",
              "    }\n",
              "\n",
              "    .dataframe tbody tr th {\n",
              "        vertical-align: top;\n",
              "    }\n",
              "\n",
              "    .dataframe thead th {\n",
              "        text-align: right;\n",
              "    }\n",
              "</style>\n",
              "<table border=\"1\" class=\"dataframe\">\n",
              "  <thead>\n",
              "    <tr style=\"text-align: right;\">\n",
              "      <th></th>\n",
              "      <th>CreditScore</th>\n",
              "      <th>Geography</th>\n",
              "      <th>Gender</th>\n",
              "      <th>Age</th>\n",
              "      <th>Tenure</th>\n",
              "      <th>Balance</th>\n",
              "      <th>NumOfProducts</th>\n",
              "      <th>HasCrCard</th>\n",
              "      <th>IsActiveMember</th>\n",
              "      <th>EstimatedSalary</th>\n",
              "      <th>Exited</th>\n",
              "    </tr>\n",
              "  </thead>\n",
              "  <tbody>\n",
              "    <tr>\n",
              "      <th>0</th>\n",
              "      <td>619</td>\n",
              "      <td>France</td>\n",
              "      <td>Female</td>\n",
              "      <td>42</td>\n",
              "      <td>2</td>\n",
              "      <td>0.00</td>\n",
              "      <td>1</td>\n",
              "      <td>1</td>\n",
              "      <td>1</td>\n",
              "      <td>101348.88</td>\n",
              "      <td>1</td>\n",
              "    </tr>\n",
              "    <tr>\n",
              "      <th>1</th>\n",
              "      <td>608</td>\n",
              "      <td>Spain</td>\n",
              "      <td>Female</td>\n",
              "      <td>41</td>\n",
              "      <td>1</td>\n",
              "      <td>83807.86</td>\n",
              "      <td>1</td>\n",
              "      <td>0</td>\n",
              "      <td>1</td>\n",
              "      <td>112542.58</td>\n",
              "      <td>0</td>\n",
              "    </tr>\n",
              "    <tr>\n",
              "      <th>2</th>\n",
              "      <td>502</td>\n",
              "      <td>France</td>\n",
              "      <td>Female</td>\n",
              "      <td>42</td>\n",
              "      <td>8</td>\n",
              "      <td>159660.80</td>\n",
              "      <td>3</td>\n",
              "      <td>1</td>\n",
              "      <td>0</td>\n",
              "      <td>113931.57</td>\n",
              "      <td>1</td>\n",
              "    </tr>\n",
              "    <tr>\n",
              "      <th>3</th>\n",
              "      <td>699</td>\n",
              "      <td>France</td>\n",
              "      <td>Female</td>\n",
              "      <td>39</td>\n",
              "      <td>1</td>\n",
              "      <td>0.00</td>\n",
              "      <td>2</td>\n",
              "      <td>0</td>\n",
              "      <td>0</td>\n",
              "      <td>93826.63</td>\n",
              "      <td>0</td>\n",
              "    </tr>\n",
              "    <tr>\n",
              "      <th>4</th>\n",
              "      <td>850</td>\n",
              "      <td>Spain</td>\n",
              "      <td>Female</td>\n",
              "      <td>43</td>\n",
              "      <td>2</td>\n",
              "      <td>125510.82</td>\n",
              "      <td>1</td>\n",
              "      <td>1</td>\n",
              "      <td>1</td>\n",
              "      <td>79084.10</td>\n",
              "      <td>0</td>\n",
              "    </tr>\n",
              "  </tbody>\n",
              "</table>\n",
              "</div>\n",
              "    <div class=\"colab-df-buttons\">\n",
              "\n",
              "  <div class=\"colab-df-container\">\n",
              "    <button class=\"colab-df-convert\" onclick=\"convertToInteractive('df-ac966498-1358-4db6-ac1c-7238eb9dec0e')\"\n",
              "            title=\"Convert this dataframe to an interactive table.\"\n",
              "            style=\"display:none;\">\n",
              "\n",
              "  <svg xmlns=\"http://www.w3.org/2000/svg\" height=\"24px\" viewBox=\"0 -960 960 960\">\n",
              "    <path d=\"M120-120v-720h720v720H120Zm60-500h600v-160H180v160Zm220 220h160v-160H400v160Zm0 220h160v-160H400v160ZM180-400h160v-160H180v160Zm440 0h160v-160H620v160ZM180-180h160v-160H180v160Zm440 0h160v-160H620v160Z\"/>\n",
              "  </svg>\n",
              "    </button>\n",
              "\n",
              "  <style>\n",
              "    .colab-df-container {\n",
              "      display:flex;\n",
              "      gap: 12px;\n",
              "    }\n",
              "\n",
              "    .colab-df-convert {\n",
              "      background-color: #E8F0FE;\n",
              "      border: none;\n",
              "      border-radius: 50%;\n",
              "      cursor: pointer;\n",
              "      display: none;\n",
              "      fill: #1967D2;\n",
              "      height: 32px;\n",
              "      padding: 0 0 0 0;\n",
              "      width: 32px;\n",
              "    }\n",
              "\n",
              "    .colab-df-convert:hover {\n",
              "      background-color: #E2EBFA;\n",
              "      box-shadow: 0px 1px 2px rgba(60, 64, 67, 0.3), 0px 1px 3px 1px rgba(60, 64, 67, 0.15);\n",
              "      fill: #174EA6;\n",
              "    }\n",
              "\n",
              "    .colab-df-buttons div {\n",
              "      margin-bottom: 4px;\n",
              "    }\n",
              "\n",
              "    [theme=dark] .colab-df-convert {\n",
              "      background-color: #3B4455;\n",
              "      fill: #D2E3FC;\n",
              "    }\n",
              "\n",
              "    [theme=dark] .colab-df-convert:hover {\n",
              "      background-color: #434B5C;\n",
              "      box-shadow: 0px 1px 3px 1px rgba(0, 0, 0, 0.15);\n",
              "      filter: drop-shadow(0px 1px 2px rgba(0, 0, 0, 0.3));\n",
              "      fill: #FFFFFF;\n",
              "    }\n",
              "  </style>\n",
              "\n",
              "    <script>\n",
              "      const buttonEl =\n",
              "        document.querySelector('#df-ac966498-1358-4db6-ac1c-7238eb9dec0e button.colab-df-convert');\n",
              "      buttonEl.style.display =\n",
              "        google.colab.kernel.accessAllowed ? 'block' : 'none';\n",
              "\n",
              "      async function convertToInteractive(key) {\n",
              "        const element = document.querySelector('#df-ac966498-1358-4db6-ac1c-7238eb9dec0e');\n",
              "        const dataTable =\n",
              "          await google.colab.kernel.invokeFunction('convertToInteractive',\n",
              "                                                    [key], {});\n",
              "        if (!dataTable) return;\n",
              "\n",
              "        const docLinkHtml = 'Like what you see? Visit the ' +\n",
              "          '<a target=\"_blank\" href=https://colab.research.google.com/notebooks/data_table.ipynb>data table notebook</a>'\n",
              "          + ' to learn more about interactive tables.';\n",
              "        element.innerHTML = '';\n",
              "        dataTable['output_type'] = 'display_data';\n",
              "        await google.colab.output.renderOutput(dataTable, element);\n",
              "        const docLink = document.createElement('div');\n",
              "        docLink.innerHTML = docLinkHtml;\n",
              "        element.appendChild(docLink);\n",
              "      }\n",
              "    </script>\n",
              "  </div>\n",
              "\n",
              "\n",
              "<div id=\"df-3168a94c-f6cf-444d-8497-b9cab168ff93\">\n",
              "  <button class=\"colab-df-quickchart\" onclick=\"quickchart('df-3168a94c-f6cf-444d-8497-b9cab168ff93')\"\n",
              "            title=\"Suggest charts.\"\n",
              "            style=\"display:none;\">\n",
              "\n",
              "<svg xmlns=\"http://www.w3.org/2000/svg\" height=\"24px\"viewBox=\"0 0 24 24\"\n",
              "     width=\"24px\">\n",
              "    <g>\n",
              "        <path d=\"M19 3H5c-1.1 0-2 .9-2 2v14c0 1.1.9 2 2 2h14c1.1 0 2-.9 2-2V5c0-1.1-.9-2-2-2zM9 17H7v-7h2v7zm4 0h-2V7h2v10zm4 0h-2v-4h2v4z\"/>\n",
              "    </g>\n",
              "</svg>\n",
              "  </button>\n",
              "\n",
              "<style>\n",
              "  .colab-df-quickchart {\n",
              "      --bg-color: #E8F0FE;\n",
              "      --fill-color: #1967D2;\n",
              "      --hover-bg-color: #E2EBFA;\n",
              "      --hover-fill-color: #174EA6;\n",
              "      --disabled-fill-color: #AAA;\n",
              "      --disabled-bg-color: #DDD;\n",
              "  }\n",
              "\n",
              "  [theme=dark] .colab-df-quickchart {\n",
              "      --bg-color: #3B4455;\n",
              "      --fill-color: #D2E3FC;\n",
              "      --hover-bg-color: #434B5C;\n",
              "      --hover-fill-color: #FFFFFF;\n",
              "      --disabled-bg-color: #3B4455;\n",
              "      --disabled-fill-color: #666;\n",
              "  }\n",
              "\n",
              "  .colab-df-quickchart {\n",
              "    background-color: var(--bg-color);\n",
              "    border: none;\n",
              "    border-radius: 50%;\n",
              "    cursor: pointer;\n",
              "    display: none;\n",
              "    fill: var(--fill-color);\n",
              "    height: 32px;\n",
              "    padding: 0;\n",
              "    width: 32px;\n",
              "  }\n",
              "\n",
              "  .colab-df-quickchart:hover {\n",
              "    background-color: var(--hover-bg-color);\n",
              "    box-shadow: 0 1px 2px rgba(60, 64, 67, 0.3), 0 1px 3px 1px rgba(60, 64, 67, 0.15);\n",
              "    fill: var(--button-hover-fill-color);\n",
              "  }\n",
              "\n",
              "  .colab-df-quickchart-complete:disabled,\n",
              "  .colab-df-quickchart-complete:disabled:hover {\n",
              "    background-color: var(--disabled-bg-color);\n",
              "    fill: var(--disabled-fill-color);\n",
              "    box-shadow: none;\n",
              "  }\n",
              "\n",
              "  .colab-df-spinner {\n",
              "    border: 2px solid var(--fill-color);\n",
              "    border-color: transparent;\n",
              "    border-bottom-color: var(--fill-color);\n",
              "    animation:\n",
              "      spin 1s steps(1) infinite;\n",
              "  }\n",
              "\n",
              "  @keyframes spin {\n",
              "    0% {\n",
              "      border-color: transparent;\n",
              "      border-bottom-color: var(--fill-color);\n",
              "      border-left-color: var(--fill-color);\n",
              "    }\n",
              "    20% {\n",
              "      border-color: transparent;\n",
              "      border-left-color: var(--fill-color);\n",
              "      border-top-color: var(--fill-color);\n",
              "    }\n",
              "    30% {\n",
              "      border-color: transparent;\n",
              "      border-left-color: var(--fill-color);\n",
              "      border-top-color: var(--fill-color);\n",
              "      border-right-color: var(--fill-color);\n",
              "    }\n",
              "    40% {\n",
              "      border-color: transparent;\n",
              "      border-right-color: var(--fill-color);\n",
              "      border-top-color: var(--fill-color);\n",
              "    }\n",
              "    60% {\n",
              "      border-color: transparent;\n",
              "      border-right-color: var(--fill-color);\n",
              "    }\n",
              "    80% {\n",
              "      border-color: transparent;\n",
              "      border-right-color: var(--fill-color);\n",
              "      border-bottom-color: var(--fill-color);\n",
              "    }\n",
              "    90% {\n",
              "      border-color: transparent;\n",
              "      border-bottom-color: var(--fill-color);\n",
              "    }\n",
              "  }\n",
              "</style>\n",
              "\n",
              "  <script>\n",
              "    async function quickchart(key) {\n",
              "      const quickchartButtonEl =\n",
              "        document.querySelector('#' + key + ' button');\n",
              "      quickchartButtonEl.disabled = true;  // To prevent multiple clicks.\n",
              "      quickchartButtonEl.classList.add('colab-df-spinner');\n",
              "      try {\n",
              "        const charts = await google.colab.kernel.invokeFunction(\n",
              "            'suggestCharts', [key], {});\n",
              "      } catch (error) {\n",
              "        console.error('Error during call to suggestCharts:', error);\n",
              "      }\n",
              "      quickchartButtonEl.classList.remove('colab-df-spinner');\n",
              "      quickchartButtonEl.classList.add('colab-df-quickchart-complete');\n",
              "    }\n",
              "    (() => {\n",
              "      let quickchartButtonEl =\n",
              "        document.querySelector('#df-3168a94c-f6cf-444d-8497-b9cab168ff93 button');\n",
              "      quickchartButtonEl.style.display =\n",
              "        google.colab.kernel.accessAllowed ? 'block' : 'none';\n",
              "    })();\n",
              "  </script>\n",
              "</div>\n",
              "    </div>\n",
              "  </div>\n"
            ]
          },
          "metadata": {},
          "execution_count": 100
        }
      ]
    },
    {
      "cell_type": "code",
      "source": [
        "#now we need to one hot encode the columns"
      ],
      "metadata": {
        "id": "3tlRYmWdMuYj"
      },
      "execution_count": 101,
      "outputs": []
    },
    {
      "cell_type": "code",
      "source": [
        "df = pd.get_dummies(df,columns=['Geography','Gender'],drop_first=True)"
      ],
      "metadata": {
        "id": "pxr8sPbNM8Us"
      },
      "execution_count": 102,
      "outputs": []
    },
    {
      "cell_type": "code",
      "source": [
        "df.head()"
      ],
      "metadata": {
        "colab": {
          "base_uri": "https://localhost:8080/",
          "height": 226
        },
        "id": "s1muLabyNEUH",
        "outputId": "8b5ea330-490e-4bb5-d141-3e94b859771c"
      },
      "execution_count": 103,
      "outputs": [
        {
          "output_type": "execute_result",
          "data": {
            "text/plain": [
              "   CreditScore  Age  Tenure    Balance  NumOfProducts  HasCrCard  \\\n",
              "0          619   42       2       0.00              1          1   \n",
              "1          608   41       1   83807.86              1          0   \n",
              "2          502   42       8  159660.80              3          1   \n",
              "3          699   39       1       0.00              2          0   \n",
              "4          850   43       2  125510.82              1          1   \n",
              "\n",
              "   IsActiveMember  EstimatedSalary  Exited  Geography_Germany  \\\n",
              "0               1        101348.88       1                  0   \n",
              "1               1        112542.58       0                  0   \n",
              "2               0        113931.57       1                  0   \n",
              "3               0         93826.63       0                  0   \n",
              "4               1         79084.10       0                  0   \n",
              "\n",
              "   Geography_Spain  Gender_Male  \n",
              "0                0            0  \n",
              "1                1            0  \n",
              "2                0            0  \n",
              "3                0            0  \n",
              "4                1            0  "
            ],
            "text/html": [
              "\n",
              "  <div id=\"df-7aced800-3614-400e-9c50-b87d755f48c9\" class=\"colab-df-container\">\n",
              "    <div>\n",
              "<style scoped>\n",
              "    .dataframe tbody tr th:only-of-type {\n",
              "        vertical-align: middle;\n",
              "    }\n",
              "\n",
              "    .dataframe tbody tr th {\n",
              "        vertical-align: top;\n",
              "    }\n",
              "\n",
              "    .dataframe thead th {\n",
              "        text-align: right;\n",
              "    }\n",
              "</style>\n",
              "<table border=\"1\" class=\"dataframe\">\n",
              "  <thead>\n",
              "    <tr style=\"text-align: right;\">\n",
              "      <th></th>\n",
              "      <th>CreditScore</th>\n",
              "      <th>Age</th>\n",
              "      <th>Tenure</th>\n",
              "      <th>Balance</th>\n",
              "      <th>NumOfProducts</th>\n",
              "      <th>HasCrCard</th>\n",
              "      <th>IsActiveMember</th>\n",
              "      <th>EstimatedSalary</th>\n",
              "      <th>Exited</th>\n",
              "      <th>Geography_Germany</th>\n",
              "      <th>Geography_Spain</th>\n",
              "      <th>Gender_Male</th>\n",
              "    </tr>\n",
              "  </thead>\n",
              "  <tbody>\n",
              "    <tr>\n",
              "      <th>0</th>\n",
              "      <td>619</td>\n",
              "      <td>42</td>\n",
              "      <td>2</td>\n",
              "      <td>0.00</td>\n",
              "      <td>1</td>\n",
              "      <td>1</td>\n",
              "      <td>1</td>\n",
              "      <td>101348.88</td>\n",
              "      <td>1</td>\n",
              "      <td>0</td>\n",
              "      <td>0</td>\n",
              "      <td>0</td>\n",
              "    </tr>\n",
              "    <tr>\n",
              "      <th>1</th>\n",
              "      <td>608</td>\n",
              "      <td>41</td>\n",
              "      <td>1</td>\n",
              "      <td>83807.86</td>\n",
              "      <td>1</td>\n",
              "      <td>0</td>\n",
              "      <td>1</td>\n",
              "      <td>112542.58</td>\n",
              "      <td>0</td>\n",
              "      <td>0</td>\n",
              "      <td>1</td>\n",
              "      <td>0</td>\n",
              "    </tr>\n",
              "    <tr>\n",
              "      <th>2</th>\n",
              "      <td>502</td>\n",
              "      <td>42</td>\n",
              "      <td>8</td>\n",
              "      <td>159660.80</td>\n",
              "      <td>3</td>\n",
              "      <td>1</td>\n",
              "      <td>0</td>\n",
              "      <td>113931.57</td>\n",
              "      <td>1</td>\n",
              "      <td>0</td>\n",
              "      <td>0</td>\n",
              "      <td>0</td>\n",
              "    </tr>\n",
              "    <tr>\n",
              "      <th>3</th>\n",
              "      <td>699</td>\n",
              "      <td>39</td>\n",
              "      <td>1</td>\n",
              "      <td>0.00</td>\n",
              "      <td>2</td>\n",
              "      <td>0</td>\n",
              "      <td>0</td>\n",
              "      <td>93826.63</td>\n",
              "      <td>0</td>\n",
              "      <td>0</td>\n",
              "      <td>0</td>\n",
              "      <td>0</td>\n",
              "    </tr>\n",
              "    <tr>\n",
              "      <th>4</th>\n",
              "      <td>850</td>\n",
              "      <td>43</td>\n",
              "      <td>2</td>\n",
              "      <td>125510.82</td>\n",
              "      <td>1</td>\n",
              "      <td>1</td>\n",
              "      <td>1</td>\n",
              "      <td>79084.10</td>\n",
              "      <td>0</td>\n",
              "      <td>0</td>\n",
              "      <td>1</td>\n",
              "      <td>0</td>\n",
              "    </tr>\n",
              "  </tbody>\n",
              "</table>\n",
              "</div>\n",
              "    <div class=\"colab-df-buttons\">\n",
              "\n",
              "  <div class=\"colab-df-container\">\n",
              "    <button class=\"colab-df-convert\" onclick=\"convertToInteractive('df-7aced800-3614-400e-9c50-b87d755f48c9')\"\n",
              "            title=\"Convert this dataframe to an interactive table.\"\n",
              "            style=\"display:none;\">\n",
              "\n",
              "  <svg xmlns=\"http://www.w3.org/2000/svg\" height=\"24px\" viewBox=\"0 -960 960 960\">\n",
              "    <path d=\"M120-120v-720h720v720H120Zm60-500h600v-160H180v160Zm220 220h160v-160H400v160Zm0 220h160v-160H400v160ZM180-400h160v-160H180v160Zm440 0h160v-160H620v160ZM180-180h160v-160H180v160Zm440 0h160v-160H620v160Z\"/>\n",
              "  </svg>\n",
              "    </button>\n",
              "\n",
              "  <style>\n",
              "    .colab-df-container {\n",
              "      display:flex;\n",
              "      gap: 12px;\n",
              "    }\n",
              "\n",
              "    .colab-df-convert {\n",
              "      background-color: #E8F0FE;\n",
              "      border: none;\n",
              "      border-radius: 50%;\n",
              "      cursor: pointer;\n",
              "      display: none;\n",
              "      fill: #1967D2;\n",
              "      height: 32px;\n",
              "      padding: 0 0 0 0;\n",
              "      width: 32px;\n",
              "    }\n",
              "\n",
              "    .colab-df-convert:hover {\n",
              "      background-color: #E2EBFA;\n",
              "      box-shadow: 0px 1px 2px rgba(60, 64, 67, 0.3), 0px 1px 3px 1px rgba(60, 64, 67, 0.15);\n",
              "      fill: #174EA6;\n",
              "    }\n",
              "\n",
              "    .colab-df-buttons div {\n",
              "      margin-bottom: 4px;\n",
              "    }\n",
              "\n",
              "    [theme=dark] .colab-df-convert {\n",
              "      background-color: #3B4455;\n",
              "      fill: #D2E3FC;\n",
              "    }\n",
              "\n",
              "    [theme=dark] .colab-df-convert:hover {\n",
              "      background-color: #434B5C;\n",
              "      box-shadow: 0px 1px 3px 1px rgba(0, 0, 0, 0.15);\n",
              "      filter: drop-shadow(0px 1px 2px rgba(0, 0, 0, 0.3));\n",
              "      fill: #FFFFFF;\n",
              "    }\n",
              "  </style>\n",
              "\n",
              "    <script>\n",
              "      const buttonEl =\n",
              "        document.querySelector('#df-7aced800-3614-400e-9c50-b87d755f48c9 button.colab-df-convert');\n",
              "      buttonEl.style.display =\n",
              "        google.colab.kernel.accessAllowed ? 'block' : 'none';\n",
              "\n",
              "      async function convertToInteractive(key) {\n",
              "        const element = document.querySelector('#df-7aced800-3614-400e-9c50-b87d755f48c9');\n",
              "        const dataTable =\n",
              "          await google.colab.kernel.invokeFunction('convertToInteractive',\n",
              "                                                    [key], {});\n",
              "        if (!dataTable) return;\n",
              "\n",
              "        const docLinkHtml = 'Like what you see? Visit the ' +\n",
              "          '<a target=\"_blank\" href=https://colab.research.google.com/notebooks/data_table.ipynb>data table notebook</a>'\n",
              "          + ' to learn more about interactive tables.';\n",
              "        element.innerHTML = '';\n",
              "        dataTable['output_type'] = 'display_data';\n",
              "        await google.colab.output.renderOutput(dataTable, element);\n",
              "        const docLink = document.createElement('div');\n",
              "        docLink.innerHTML = docLinkHtml;\n",
              "        element.appendChild(docLink);\n",
              "      }\n",
              "    </script>\n",
              "  </div>\n",
              "\n",
              "\n",
              "<div id=\"df-4dd240f4-6a7e-433d-a53b-2701686029f2\">\n",
              "  <button class=\"colab-df-quickchart\" onclick=\"quickchart('df-4dd240f4-6a7e-433d-a53b-2701686029f2')\"\n",
              "            title=\"Suggest charts.\"\n",
              "            style=\"display:none;\">\n",
              "\n",
              "<svg xmlns=\"http://www.w3.org/2000/svg\" height=\"24px\"viewBox=\"0 0 24 24\"\n",
              "     width=\"24px\">\n",
              "    <g>\n",
              "        <path d=\"M19 3H5c-1.1 0-2 .9-2 2v14c0 1.1.9 2 2 2h14c1.1 0 2-.9 2-2V5c0-1.1-.9-2-2-2zM9 17H7v-7h2v7zm4 0h-2V7h2v10zm4 0h-2v-4h2v4z\"/>\n",
              "    </g>\n",
              "</svg>\n",
              "  </button>\n",
              "\n",
              "<style>\n",
              "  .colab-df-quickchart {\n",
              "      --bg-color: #E8F0FE;\n",
              "      --fill-color: #1967D2;\n",
              "      --hover-bg-color: #E2EBFA;\n",
              "      --hover-fill-color: #174EA6;\n",
              "      --disabled-fill-color: #AAA;\n",
              "      --disabled-bg-color: #DDD;\n",
              "  }\n",
              "\n",
              "  [theme=dark] .colab-df-quickchart {\n",
              "      --bg-color: #3B4455;\n",
              "      --fill-color: #D2E3FC;\n",
              "      --hover-bg-color: #434B5C;\n",
              "      --hover-fill-color: #FFFFFF;\n",
              "      --disabled-bg-color: #3B4455;\n",
              "      --disabled-fill-color: #666;\n",
              "  }\n",
              "\n",
              "  .colab-df-quickchart {\n",
              "    background-color: var(--bg-color);\n",
              "    border: none;\n",
              "    border-radius: 50%;\n",
              "    cursor: pointer;\n",
              "    display: none;\n",
              "    fill: var(--fill-color);\n",
              "    height: 32px;\n",
              "    padding: 0;\n",
              "    width: 32px;\n",
              "  }\n",
              "\n",
              "  .colab-df-quickchart:hover {\n",
              "    background-color: var(--hover-bg-color);\n",
              "    box-shadow: 0 1px 2px rgba(60, 64, 67, 0.3), 0 1px 3px 1px rgba(60, 64, 67, 0.15);\n",
              "    fill: var(--button-hover-fill-color);\n",
              "  }\n",
              "\n",
              "  .colab-df-quickchart-complete:disabled,\n",
              "  .colab-df-quickchart-complete:disabled:hover {\n",
              "    background-color: var(--disabled-bg-color);\n",
              "    fill: var(--disabled-fill-color);\n",
              "    box-shadow: none;\n",
              "  }\n",
              "\n",
              "  .colab-df-spinner {\n",
              "    border: 2px solid var(--fill-color);\n",
              "    border-color: transparent;\n",
              "    border-bottom-color: var(--fill-color);\n",
              "    animation:\n",
              "      spin 1s steps(1) infinite;\n",
              "  }\n",
              "\n",
              "  @keyframes spin {\n",
              "    0% {\n",
              "      border-color: transparent;\n",
              "      border-bottom-color: var(--fill-color);\n",
              "      border-left-color: var(--fill-color);\n",
              "    }\n",
              "    20% {\n",
              "      border-color: transparent;\n",
              "      border-left-color: var(--fill-color);\n",
              "      border-top-color: var(--fill-color);\n",
              "    }\n",
              "    30% {\n",
              "      border-color: transparent;\n",
              "      border-left-color: var(--fill-color);\n",
              "      border-top-color: var(--fill-color);\n",
              "      border-right-color: var(--fill-color);\n",
              "    }\n",
              "    40% {\n",
              "      border-color: transparent;\n",
              "      border-right-color: var(--fill-color);\n",
              "      border-top-color: var(--fill-color);\n",
              "    }\n",
              "    60% {\n",
              "      border-color: transparent;\n",
              "      border-right-color: var(--fill-color);\n",
              "    }\n",
              "    80% {\n",
              "      border-color: transparent;\n",
              "      border-right-color: var(--fill-color);\n",
              "      border-bottom-color: var(--fill-color);\n",
              "    }\n",
              "    90% {\n",
              "      border-color: transparent;\n",
              "      border-bottom-color: var(--fill-color);\n",
              "    }\n",
              "  }\n",
              "</style>\n",
              "\n",
              "  <script>\n",
              "    async function quickchart(key) {\n",
              "      const quickchartButtonEl =\n",
              "        document.querySelector('#' + key + ' button');\n",
              "      quickchartButtonEl.disabled = true;  // To prevent multiple clicks.\n",
              "      quickchartButtonEl.classList.add('colab-df-spinner');\n",
              "      try {\n",
              "        const charts = await google.colab.kernel.invokeFunction(\n",
              "            'suggestCharts', [key], {});\n",
              "      } catch (error) {\n",
              "        console.error('Error during call to suggestCharts:', error);\n",
              "      }\n",
              "      quickchartButtonEl.classList.remove('colab-df-spinner');\n",
              "      quickchartButtonEl.classList.add('colab-df-quickchart-complete');\n",
              "    }\n",
              "    (() => {\n",
              "      let quickchartButtonEl =\n",
              "        document.querySelector('#df-4dd240f4-6a7e-433d-a53b-2701686029f2 button');\n",
              "      quickchartButtonEl.style.display =\n",
              "        google.colab.kernel.accessAllowed ? 'block' : 'none';\n",
              "    })();\n",
              "  </script>\n",
              "</div>\n",
              "    </div>\n",
              "  </div>\n"
            ]
          },
          "metadata": {},
          "execution_count": 103
        }
      ]
    },
    {
      "cell_type": "code",
      "source": [
        "X = df.drop(columns=['Exited'])\n",
        "y = df['Exited'].values\n",
        "\n",
        "from sklearn.model_selection import train_test_split\n",
        "X_train,X_test,y_train,y_test = train_test_split(X,y,test_size=0.2,random_state=0)"
      ],
      "metadata": {
        "id": "iBX6hw4iNGbD"
      },
      "execution_count": 104,
      "outputs": []
    },
    {
      "cell_type": "code",
      "source": [
        "#now we do scaling\n",
        "from sklearn.preprocessing import StandardScaler\n",
        "scaler = StandardScaler()\n",
        "\n",
        "X_train_trf = scaler.fit_transform(X_train)\n",
        "X_test_trf = scaler.transform(X_test)"
      ],
      "metadata": {
        "id": "3TSAGUcbNmgw"
      },
      "execution_count": 105,
      "outputs": []
    },
    {
      "cell_type": "code",
      "source": [
        "import tensorflow\n",
        "from tensorflow import keras\n",
        "from tensorflow.keras import Sequential\n",
        "from tensorflow.keras.layers import Dense"
      ],
      "metadata": {
        "id": "aRW660ZfNxpJ"
      },
      "execution_count": 106,
      "outputs": []
    },
    {
      "cell_type": "code",
      "source": [
        "#in keras we have sequential and non sequential models, we start with sequantial"
      ],
      "metadata": {
        "id": "JTBS_O8AOAnZ"
      },
      "execution_count": 107,
      "outputs": []
    },
    {
      "cell_type": "code",
      "source": [
        "model = Sequential()\n",
        "\n",
        "model.add(Dense(11,activation='relu',input_dim=11)) #first layer we need to tell number of inputs it get\n",
        "model.add(Dense(11,activation='relu')) #11 is number of neurons\n",
        "model.add(Dense(1,activation='sigmoid'))"
      ],
      "metadata": {
        "id": "7B9pmeimOZjH"
      },
      "execution_count": 108,
      "outputs": []
    },
    {
      "cell_type": "code",
      "source": [
        "model.summary()"
      ],
      "metadata": {
        "colab": {
          "base_uri": "https://localhost:8080/"
        },
        "id": "j365KvI5Ok4o",
        "outputId": "83a1c74d-3fd7-4dc0-b517-2e378dea87d2"
      },
      "execution_count": 109,
      "outputs": [
        {
          "output_type": "stream",
          "name": "stdout",
          "text": [
            "Model: \"sequential_3\"\n",
            "_________________________________________________________________\n",
            " Layer (type)                Output Shape              Param #   \n",
            "=================================================================\n",
            " dense_9 (Dense)             (None, 11)                132       \n",
            "                                                                 \n",
            " dense_10 (Dense)            (None, 11)                132       \n",
            "                                                                 \n",
            " dense_11 (Dense)            (None, 1)                 12        \n",
            "                                                                 \n",
            "=================================================================\n",
            "Total params: 276 (1.08 KB)\n",
            "Trainable params: 276 (1.08 KB)\n",
            "Non-trainable params: 0 (0.00 Byte)\n",
            "_________________________________________________________________\n"
          ]
        }
      ]
    },
    {
      "cell_type": "code",
      "source": [
        "model.compile(optimizer='Adam',loss='binary_crossentropy',metrics=['accuracy'])\n"
      ],
      "metadata": {
        "id": "2TBAirCgOmdu"
      },
      "execution_count": 110,
      "outputs": []
    },
    {
      "cell_type": "code",
      "source": [
        "#history = model.fit(X_train,y_train,batch_size=50,epochs=100,verbose=1,validation_split=0.2)\n",
        "history = model.fit(X_train,y_train,epochs=100,verbose=1,validation_split=0.2)\n",
        "#we get history dictionary in history objext that contain info for every epoch"
      ],
      "metadata": {
        "colab": {
          "base_uri": "https://localhost:8080/"
        },
        "id": "eCPab4QQPd5H",
        "outputId": "4ce3c650-9c1f-4e59-c4f7-81e8c311e8dd"
      },
      "execution_count": 111,
      "outputs": [
        {
          "output_type": "stream",
          "name": "stdout",
          "text": [
            "Epoch 1/100\n",
            "200/200 [==============================] - 1s 4ms/step - loss: 1186.9326 - accuracy: 0.7013 - val_loss: 27.9174 - val_accuracy: 0.6819\n",
            "Epoch 2/100\n",
            "200/200 [==============================] - 1s 3ms/step - loss: 72.5296 - accuracy: 0.6734 - val_loss: 73.1125 - val_accuracy: 0.7862\n",
            "Epoch 3/100\n",
            "200/200 [==============================] - 0s 2ms/step - loss: 81.6244 - accuracy: 0.6733 - val_loss: 213.2912 - val_accuracy: 0.7969\n",
            "Epoch 4/100\n",
            "200/200 [==============================] - 1s 3ms/step - loss: 65.4684 - accuracy: 0.6770 - val_loss: 37.5413 - val_accuracy: 0.7875\n",
            "Epoch 5/100\n",
            "200/200 [==============================] - 1s 3ms/step - loss: 49.2264 - accuracy: 0.6675 - val_loss: 50.6241 - val_accuracy: 0.3431\n",
            "Epoch 6/100\n",
            "200/200 [==============================] - 1s 3ms/step - loss: 45.1402 - accuracy: 0.6794 - val_loss: 8.4268 - val_accuracy: 0.6587\n",
            "Epoch 7/100\n",
            "200/200 [==============================] - 1s 4ms/step - loss: 51.9084 - accuracy: 0.6714 - val_loss: 19.8684 - val_accuracy: 0.7956\n",
            "Epoch 8/100\n",
            "200/200 [==============================] - 1s 4ms/step - loss: 55.4766 - accuracy: 0.6712 - val_loss: 36.1518 - val_accuracy: 0.6531\n",
            "Epoch 9/100\n",
            "200/200 [==============================] - 1s 4ms/step - loss: 65.8304 - accuracy: 0.6647 - val_loss: 58.7289 - val_accuracy: 0.7825\n",
            "Epoch 10/100\n",
            "200/200 [==============================] - 1s 3ms/step - loss: 47.6514 - accuracy: 0.6712 - val_loss: 12.7851 - val_accuracy: 0.4381\n",
            "Epoch 11/100\n",
            "200/200 [==============================] - 0s 2ms/step - loss: 50.4878 - accuracy: 0.6781 - val_loss: 66.3390 - val_accuracy: 0.7825\n",
            "Epoch 12/100\n",
            "200/200 [==============================] - 1s 3ms/step - loss: 48.1871 - accuracy: 0.6812 - val_loss: 16.1211 - val_accuracy: 0.7781\n",
            "Epoch 13/100\n",
            "200/200 [==============================] - 1s 3ms/step - loss: 51.4052 - accuracy: 0.6775 - val_loss: 27.2462 - val_accuracy: 0.4625\n",
            "Epoch 14/100\n",
            "200/200 [==============================] - 0s 2ms/step - loss: 56.4906 - accuracy: 0.6762 - val_loss: 209.7547 - val_accuracy: 0.2119\n",
            "Epoch 15/100\n",
            "200/200 [==============================] - 0s 2ms/step - loss: 60.5936 - accuracy: 0.6800 - val_loss: 37.5164 - val_accuracy: 0.7975\n",
            "Epoch 16/100\n",
            "200/200 [==============================] - 0s 2ms/step - loss: 52.3965 - accuracy: 0.6728 - val_loss: 24.7473 - val_accuracy: 0.7931\n",
            "Epoch 17/100\n",
            "200/200 [==============================] - 1s 3ms/step - loss: 49.9093 - accuracy: 0.6817 - val_loss: 102.7947 - val_accuracy: 0.2056\n",
            "Epoch 18/100\n",
            "200/200 [==============================] - 0s 2ms/step - loss: 69.7434 - accuracy: 0.6734 - val_loss: 24.8873 - val_accuracy: 0.7975\n",
            "Epoch 19/100\n",
            "200/200 [==============================] - 0s 2ms/step - loss: 51.5821 - accuracy: 0.6761 - val_loss: 31.7452 - val_accuracy: 0.7650\n",
            "Epoch 20/100\n",
            "200/200 [==============================] - 1s 3ms/step - loss: 47.5217 - accuracy: 0.6812 - val_loss: 51.0636 - val_accuracy: 0.2169\n",
            "Epoch 21/100\n",
            "200/200 [==============================] - 0s 2ms/step - loss: 47.7297 - accuracy: 0.6791 - val_loss: 17.9685 - val_accuracy: 0.5013\n",
            "Epoch 22/100\n",
            "200/200 [==============================] - 1s 3ms/step - loss: 53.8767 - accuracy: 0.6812 - val_loss: 57.5096 - val_accuracy: 0.2637\n",
            "Epoch 23/100\n",
            "200/200 [==============================] - 0s 2ms/step - loss: 48.2356 - accuracy: 0.6889 - val_loss: 59.5666 - val_accuracy: 0.7956\n",
            "Epoch 24/100\n",
            "200/200 [==============================] - 1s 3ms/step - loss: 32.2169 - accuracy: 0.6800 - val_loss: 10.9420 - val_accuracy: 0.7894\n",
            "Epoch 25/100\n",
            "200/200 [==============================] - 0s 2ms/step - loss: 43.7816 - accuracy: 0.6769 - val_loss: 98.3653 - val_accuracy: 0.7969\n",
            "Epoch 26/100\n",
            "200/200 [==============================] - 1s 3ms/step - loss: 52.9367 - accuracy: 0.6778 - val_loss: 65.8882 - val_accuracy: 0.2144\n",
            "Epoch 27/100\n",
            "200/200 [==============================] - 1s 3ms/step - loss: 56.7534 - accuracy: 0.6789 - val_loss: 18.0233 - val_accuracy: 0.7969\n",
            "Epoch 28/100\n",
            "200/200 [==============================] - 0s 2ms/step - loss: 44.5218 - accuracy: 0.6791 - val_loss: 157.0414 - val_accuracy: 0.7969\n",
            "Epoch 29/100\n",
            "200/200 [==============================] - 1s 3ms/step - loss: 69.7049 - accuracy: 0.6862 - val_loss: 50.6285 - val_accuracy: 0.6162\n",
            "Epoch 30/100\n",
            "200/200 [==============================] - 1s 4ms/step - loss: 42.6776 - accuracy: 0.6819 - val_loss: 23.1968 - val_accuracy: 0.7969\n",
            "Epoch 31/100\n",
            "200/200 [==============================] - 1s 4ms/step - loss: 58.2434 - accuracy: 0.6806 - val_loss: 63.3347 - val_accuracy: 0.7975\n",
            "Epoch 32/100\n",
            "200/200 [==============================] - 1s 4ms/step - loss: 56.2216 - accuracy: 0.6778 - val_loss: 11.5147 - val_accuracy: 0.6787\n",
            "Epoch 33/100\n",
            "200/200 [==============================] - 1s 3ms/step - loss: 39.8742 - accuracy: 0.6850 - val_loss: 58.4416 - val_accuracy: 0.3587\n",
            "Epoch 34/100\n",
            "200/200 [==============================] - 1s 3ms/step - loss: 51.4463 - accuracy: 0.6792 - val_loss: 13.5764 - val_accuracy: 0.5019\n",
            "Epoch 35/100\n",
            "200/200 [==============================] - 1s 3ms/step - loss: 49.6989 - accuracy: 0.6866 - val_loss: 69.5374 - val_accuracy: 0.7969\n",
            "Epoch 36/100\n",
            "200/200 [==============================] - 0s 2ms/step - loss: 59.2524 - accuracy: 0.6797 - val_loss: 21.5140 - val_accuracy: 0.4212\n",
            "Epoch 37/100\n",
            "200/200 [==============================] - 1s 3ms/step - loss: 53.1412 - accuracy: 0.6884 - val_loss: 38.3218 - val_accuracy: 0.4975\n",
            "Epoch 38/100\n",
            "200/200 [==============================] - 0s 2ms/step - loss: 55.2349 - accuracy: 0.6837 - val_loss: 98.1684 - val_accuracy: 0.7969\n",
            "Epoch 39/100\n",
            "200/200 [==============================] - 0s 2ms/step - loss: 57.5067 - accuracy: 0.6737 - val_loss: 45.4984 - val_accuracy: 0.7969\n",
            "Epoch 40/100\n",
            "200/200 [==============================] - 1s 3ms/step - loss: 39.4360 - accuracy: 0.6837 - val_loss: 18.6174 - val_accuracy: 0.7956\n",
            "Epoch 41/100\n",
            "200/200 [==============================] - 1s 3ms/step - loss: 53.4463 - accuracy: 0.6803 - val_loss: 27.4122 - val_accuracy: 0.7956\n",
            "Epoch 42/100\n",
            "200/200 [==============================] - 0s 2ms/step - loss: 42.2931 - accuracy: 0.6777 - val_loss: 34.3750 - val_accuracy: 0.4906\n",
            "Epoch 43/100\n",
            "200/200 [==============================] - 0s 2ms/step - loss: 53.5606 - accuracy: 0.6845 - val_loss: 89.0941 - val_accuracy: 0.7969\n",
            "Epoch 44/100\n",
            "200/200 [==============================] - 0s 2ms/step - loss: 53.5084 - accuracy: 0.6839 - val_loss: 40.1875 - val_accuracy: 0.7956\n",
            "Epoch 45/100\n",
            "200/200 [==============================] - 0s 2ms/step - loss: 50.9043 - accuracy: 0.6839 - val_loss: 33.8603 - val_accuracy: 0.7950\n",
            "Epoch 46/100\n",
            "200/200 [==============================] - 1s 3ms/step - loss: 48.9576 - accuracy: 0.6897 - val_loss: 6.7862 - val_accuracy: 0.6456\n",
            "Epoch 47/100\n",
            "200/200 [==============================] - 1s 3ms/step - loss: 52.9616 - accuracy: 0.6853 - val_loss: 25.1356 - val_accuracy: 0.5975\n",
            "Epoch 48/100\n",
            "200/200 [==============================] - 1s 3ms/step - loss: 36.0639 - accuracy: 0.6897 - val_loss: 16.5144 - val_accuracy: 0.3487\n",
            "Epoch 49/100\n",
            "200/200 [==============================] - 1s 3ms/step - loss: 48.3304 - accuracy: 0.6859 - val_loss: 34.2253 - val_accuracy: 0.7944\n",
            "Epoch 50/100\n",
            "200/200 [==============================] - 1s 3ms/step - loss: 39.8175 - accuracy: 0.6745 - val_loss: 27.3800 - val_accuracy: 0.7594\n",
            "Epoch 51/100\n",
            "200/200 [==============================] - 0s 2ms/step - loss: 44.2503 - accuracy: 0.6864 - val_loss: 11.4711 - val_accuracy: 0.7906\n",
            "Epoch 52/100\n",
            "200/200 [==============================] - 1s 3ms/step - loss: 37.2376 - accuracy: 0.6911 - val_loss: 23.6698 - val_accuracy: 0.7900\n",
            "Epoch 53/100\n",
            "200/200 [==============================] - 1s 3ms/step - loss: 46.6087 - accuracy: 0.6802 - val_loss: 88.2061 - val_accuracy: 0.7969\n",
            "Epoch 54/100\n",
            "200/200 [==============================] - 1s 4ms/step - loss: 39.6149 - accuracy: 0.6806 - val_loss: 14.1573 - val_accuracy: 0.7925\n",
            "Epoch 55/100\n",
            "200/200 [==============================] - 1s 4ms/step - loss: 37.1611 - accuracy: 0.6903 - val_loss: 28.0409 - val_accuracy: 0.7906\n",
            "Epoch 56/100\n",
            "200/200 [==============================] - 1s 4ms/step - loss: 61.2934 - accuracy: 0.6806 - val_loss: 16.6440 - val_accuracy: 0.7950\n",
            "Epoch 57/100\n",
            "200/200 [==============================] - 1s 3ms/step - loss: 41.2778 - accuracy: 0.6897 - val_loss: 128.7932 - val_accuracy: 0.7969\n",
            "Epoch 58/100\n",
            "200/200 [==============================] - 1s 3ms/step - loss: 29.5728 - accuracy: 0.6928 - val_loss: 12.9270 - val_accuracy: 0.7831\n",
            "Epoch 59/100\n",
            "200/200 [==============================] - 1s 3ms/step - loss: 34.9934 - accuracy: 0.6853 - val_loss: 26.0403 - val_accuracy: 0.4837\n",
            "Epoch 60/100\n",
            "200/200 [==============================] - 0s 2ms/step - loss: 45.3909 - accuracy: 0.6800 - val_loss: 22.4043 - val_accuracy: 0.7969\n",
            "Epoch 61/100\n",
            "200/200 [==============================] - 0s 2ms/step - loss: 37.7559 - accuracy: 0.6861 - val_loss: 18.7955 - val_accuracy: 0.7912\n",
            "Epoch 62/100\n",
            "200/200 [==============================] - 0s 2ms/step - loss: 37.5961 - accuracy: 0.6816 - val_loss: 66.8372 - val_accuracy: 0.7956\n",
            "Epoch 63/100\n",
            "200/200 [==============================] - 0s 2ms/step - loss: 45.7588 - accuracy: 0.6856 - val_loss: 46.2927 - val_accuracy: 0.7925\n",
            "Epoch 64/100\n",
            "200/200 [==============================] - 0s 2ms/step - loss: 40.5094 - accuracy: 0.6812 - val_loss: 18.4488 - val_accuracy: 0.7900\n",
            "Epoch 65/100\n",
            "200/200 [==============================] - 0s 2ms/step - loss: 36.4362 - accuracy: 0.6864 - val_loss: 44.6072 - val_accuracy: 0.7969\n",
            "Epoch 66/100\n",
            "200/200 [==============================] - 0s 2ms/step - loss: 44.6770 - accuracy: 0.6886 - val_loss: 21.1294 - val_accuracy: 0.7881\n",
            "Epoch 67/100\n",
            "200/200 [==============================] - 1s 3ms/step - loss: 47.5443 - accuracy: 0.6858 - val_loss: 16.8943 - val_accuracy: 0.6606\n",
            "Epoch 68/100\n",
            "200/200 [==============================] - 0s 2ms/step - loss: 38.6353 - accuracy: 0.6855 - val_loss: 41.0944 - val_accuracy: 0.7969\n",
            "Epoch 69/100\n",
            "200/200 [==============================] - 1s 3ms/step - loss: 40.0870 - accuracy: 0.6820 - val_loss: 115.7998 - val_accuracy: 0.7969\n",
            "Epoch 70/100\n",
            "200/200 [==============================] - 0s 2ms/step - loss: 34.0477 - accuracy: 0.6897 - val_loss: 88.9317 - val_accuracy: 0.7969\n",
            "Epoch 71/100\n",
            "200/200 [==============================] - 0s 2ms/step - loss: 43.2198 - accuracy: 0.6872 - val_loss: 22.3988 - val_accuracy: 0.6606\n",
            "Epoch 72/100\n",
            "200/200 [==============================] - 0s 2ms/step - loss: 45.4649 - accuracy: 0.6900 - val_loss: 27.7501 - val_accuracy: 0.7956\n",
            "Epoch 73/100\n",
            "200/200 [==============================] - 1s 3ms/step - loss: 32.9252 - accuracy: 0.6853 - val_loss: 48.6702 - val_accuracy: 0.7969\n",
            "Epoch 74/100\n",
            "200/200 [==============================] - 1s 3ms/step - loss: 44.6424 - accuracy: 0.6772 - val_loss: 19.6239 - val_accuracy: 0.4787\n",
            "Epoch 75/100\n",
            "200/200 [==============================] - 1s 3ms/step - loss: 39.8877 - accuracy: 0.6869 - val_loss: 26.5780 - val_accuracy: 0.7569\n",
            "Epoch 76/100\n",
            "200/200 [==============================] - 1s 3ms/step - loss: 46.7605 - accuracy: 0.6802 - val_loss: 40.3613 - val_accuracy: 0.7844\n",
            "Epoch 77/100\n",
            "200/200 [==============================] - 1s 4ms/step - loss: 30.7904 - accuracy: 0.6844 - val_loss: 28.0393 - val_accuracy: 0.5013\n",
            "Epoch 78/100\n",
            "200/200 [==============================] - 1s 4ms/step - loss: 35.1966 - accuracy: 0.6814 - val_loss: 43.4590 - val_accuracy: 0.7969\n",
            "Epoch 79/100\n",
            "200/200 [==============================] - 1s 3ms/step - loss: 44.8704 - accuracy: 0.6916 - val_loss: 22.1336 - val_accuracy: 0.7969\n",
            "Epoch 80/100\n",
            "200/200 [==============================] - 1s 3ms/step - loss: 41.2290 - accuracy: 0.6845 - val_loss: 19.2658 - val_accuracy: 0.7969\n",
            "Epoch 81/100\n",
            "200/200 [==============================] - 1s 3ms/step - loss: 36.5289 - accuracy: 0.6869 - val_loss: 136.3443 - val_accuracy: 0.4756\n",
            "Epoch 82/100\n",
            "200/200 [==============================] - 0s 2ms/step - loss: 31.5889 - accuracy: 0.6852 - val_loss: 161.0214 - val_accuracy: 0.7969\n",
            "Epoch 83/100\n",
            "200/200 [==============================] - 1s 3ms/step - loss: 27.7418 - accuracy: 0.7000 - val_loss: 30.9301 - val_accuracy: 0.7969\n",
            "Epoch 84/100\n",
            "200/200 [==============================] - 0s 2ms/step - loss: 39.2657 - accuracy: 0.6836 - val_loss: 118.6037 - val_accuracy: 0.7969\n",
            "Epoch 85/100\n",
            "200/200 [==============================] - 1s 3ms/step - loss: 28.3260 - accuracy: 0.6944 - val_loss: 22.5401 - val_accuracy: 0.7969\n",
            "Epoch 86/100\n",
            "200/200 [==============================] - 0s 2ms/step - loss: 46.6669 - accuracy: 0.6816 - val_loss: 20.4474 - val_accuracy: 0.7956\n",
            "Epoch 87/100\n",
            "200/200 [==============================] - 1s 3ms/step - loss: 40.8692 - accuracy: 0.6823 - val_loss: 25.5671 - val_accuracy: 0.7975\n",
            "Epoch 88/100\n",
            "200/200 [==============================] - 0s 2ms/step - loss: 24.8068 - accuracy: 0.6850 - val_loss: 53.9723 - val_accuracy: 0.7969\n",
            "Epoch 89/100\n",
            "200/200 [==============================] - 0s 2ms/step - loss: 43.8787 - accuracy: 0.6772 - val_loss: 62.0602 - val_accuracy: 0.4875\n",
            "Epoch 90/100\n",
            "200/200 [==============================] - 0s 2ms/step - loss: 43.0612 - accuracy: 0.6906 - val_loss: 6.9952 - val_accuracy: 0.7188\n",
            "Epoch 91/100\n",
            "200/200 [==============================] - 0s 2ms/step - loss: 39.2660 - accuracy: 0.6831 - val_loss: 27.8892 - val_accuracy: 0.7969\n",
            "Epoch 92/100\n",
            "200/200 [==============================] - 0s 2ms/step - loss: 33.7092 - accuracy: 0.6903 - val_loss: 9.7724 - val_accuracy: 0.7456\n",
            "Epoch 93/100\n",
            "200/200 [==============================] - 1s 3ms/step - loss: 33.7471 - accuracy: 0.6817 - val_loss: 45.5500 - val_accuracy: 0.7638\n",
            "Epoch 94/100\n",
            "200/200 [==============================] - 0s 2ms/step - loss: 37.8761 - accuracy: 0.6808 - val_loss: 150.7550 - val_accuracy: 0.2075\n",
            "Epoch 95/100\n",
            "200/200 [==============================] - 0s 2ms/step - loss: 34.9244 - accuracy: 0.6812 - val_loss: 13.9471 - val_accuracy: 0.7050\n",
            "Epoch 96/100\n",
            "200/200 [==============================] - 1s 3ms/step - loss: 34.3254 - accuracy: 0.6855 - val_loss: 14.2797 - val_accuracy: 0.4913\n",
            "Epoch 97/100\n",
            "200/200 [==============================] - 0s 2ms/step - loss: 35.9700 - accuracy: 0.6791 - val_loss: 31.5977 - val_accuracy: 0.7969\n",
            "Epoch 98/100\n",
            "200/200 [==============================] - 0s 2ms/step - loss: 33.3399 - accuracy: 0.6833 - val_loss: 61.9528 - val_accuracy: 0.7969\n",
            "Epoch 99/100\n",
            "200/200 [==============================] - 0s 2ms/step - loss: 28.5932 - accuracy: 0.6898 - val_loss: 6.1067 - val_accuracy: 0.8000\n",
            "Epoch 100/100\n",
            "200/200 [==============================] - 1s 6ms/step - loss: 33.8425 - accuracy: 0.6822 - val_loss: 21.4776 - val_accuracy: 0.7969\n"
          ]
        }
      ]
    },
    {
      "cell_type": "code",
      "source": [
        "#weight between input layer and 1st layer\n",
        "model.layers[0].weights"
      ],
      "metadata": {
        "colab": {
          "base_uri": "https://localhost:8080/"
        },
        "id": "xG6LZ5sZPiRe",
        "outputId": "c5ae1747-5147-4a23-9a30-e1b0262d677d"
      },
      "execution_count": 112,
      "outputs": [
        {
          "output_type": "execute_result",
          "data": {
            "text/plain": [
              "[<tf.Variable 'dense_9/kernel:0' shape=(11, 11) dtype=float32, numpy=\n",
              " array([[-1.6539553e-01, -1.1758292e-01, -4.4493201e-01,  2.6848617e-01,\n",
              "          2.0200382e-01, -2.6983005e-01,  2.6132101e-01, -1.0775689e-03,\n",
              "         -3.0090070e-01,  4.6026623e-01, -9.2503309e-02],\n",
              "        [-1.8208612e+00, -7.3124808e-01, -5.0603747e-02,  2.2078769e-01,\n",
              "          6.7186244e-02, -1.4647675e+00, -1.6171600e+00,  5.2865013e-02,\n",
              "          1.2971888e+00, -3.6269876e-01,  1.4192476e+00],\n",
              "        [ 2.6588666e-01, -1.3712241e-01,  2.2672296e-02, -5.9181833e-01,\n",
              "          1.0002138e-01,  8.3401829e-02, -1.1094643e-01, -1.0769284e+00,\n",
              "         -7.1514970e-01,  1.6121909e-01, -2.6806289e-01],\n",
              "        [-1.8640788e-02,  3.2391676e-01, -3.2577416e-01, -4.4076091e-01,\n",
              "         -1.4443439e-01,  3.3868334e-01,  1.6392560e-01, -8.2084537e-02,\n",
              "          3.3015978e-02, -2.8031230e-01,  2.2046588e-01],\n",
              "        [-6.0357803e-01, -2.0531418e+00,  3.4904593e-01,  5.5626012e-02,\n",
              "         -1.5145320e-01, -7.0517406e-02, -3.8389075e-01, -9.8071742e-01,\n",
              "          6.6098168e-02,  4.4628254e-01,  2.5741985e-01],\n",
              "        [ 3.3191380e-01,  5.9002012e-01,  2.1763635e-01,  6.2171753e-02,\n",
              "         -1.2320516e-01,  4.8900310e-02,  2.8212169e-01, -5.1208782e-01,\n",
              "         -7.4948984e-01, -5.6718338e-01,  4.4719819e-02],\n",
              "        [ 3.1821167e+00,  1.4413333e-01,  2.7962762e-01,  4.9704313e-01,\n",
              "          5.2549150e-03,  3.2898967e+00,  3.3973205e+00, -1.1063707e+00,\n",
              "         -3.7792482e+00,  1.5332906e-01, -3.4851809e+00],\n",
              "        [ 2.3413624e-01,  7.5221449e-02, -4.4715315e-01, -2.5165015e-01,\n",
              "         -3.3313525e-01,  3.4597713e-01, -8.5232846e-02, -4.2409585e-03,\n",
              "          3.2331461e-01, -5.3350365e-01, -1.0920700e-01],\n",
              "        [-3.6248758e+00, -4.4642544e+00,  1.2545335e-01,  1.8277705e-02,\n",
              "          2.0791185e-01, -3.8241088e+00, -3.6118450e+00, -2.7800354e-01,\n",
              "          3.5351446e+00,  3.3048373e-01,  3.5090752e+00],\n",
              "        [ 1.1609344e+00,  7.5515944e-01,  3.2551420e-01,  3.7316078e-01,\n",
              "          1.1058855e-01,  1.2457772e+00,  1.2018368e+00, -1.4679889e-01,\n",
              "         -2.0417972e+00,  1.5202737e-01, -1.7356644e+00],\n",
              "        [ 2.5178108e+00,  1.0645579e-01,  4.8453194e-01, -8.2659376e-01,\n",
              "          5.5157804e-01,  1.9997952e+00,  2.5803320e+00, -2.7835840e-01,\n",
              "         -2.0723262e+00, -4.6252483e-01, -2.4174631e+00]], dtype=float32)>,\n",
              " <tf.Variable 'dense_9/bias:0' shape=(11,) dtype=float32, numpy=\n",
              " array([-0.05743888, -0.26138517,  0.        ,  0.09009971,  0.09220101,\n",
              "        -0.0877183 , -0.0111572 , -0.45132318, -0.15655558, -0.0602394 ,\n",
              "        -0.0436441 ], dtype=float32)>]"
            ]
          },
          "metadata": {},
          "execution_count": 112
        }
      ]
    },
    {
      "cell_type": "code",
      "source": [
        "model.layers[2].weights"
      ],
      "metadata": {
        "colab": {
          "base_uri": "https://localhost:8080/"
        },
        "id": "L4k20G10P3jO",
        "outputId": "d412434a-3392-419e-c62b-665ea2d4976e"
      },
      "execution_count": 113,
      "outputs": [
        {
          "output_type": "execute_result",
          "data": {
            "text/plain": [
              "[<tf.Variable 'dense_11/kernel:0' shape=(11, 1) dtype=float32, numpy=\n",
              " array([[ 0.19489625],\n",
              "        [-0.56123704],\n",
              "        [ 0.48136577],\n",
              "        [ 0.5467657 ],\n",
              "        [ 0.21923119],\n",
              "        [ 0.08843303],\n",
              "        [-0.54120487],\n",
              "        [-0.4247721 ],\n",
              "        [-0.32631454],\n",
              "        [-0.04179179],\n",
              "        [ 0.1399141 ]], dtype=float32)>,\n",
              " <tf.Variable 'dense_11/bias:0' shape=(1,) dtype=float32, numpy=array([-0.01901287], dtype=float32)>]"
            ]
          },
          "metadata": {},
          "execution_count": 113
        }
      ]
    },
    {
      "cell_type": "code",
      "source": [
        "y_pred = model.predict(X_test)\n"
      ],
      "metadata": {
        "colab": {
          "base_uri": "https://localhost:8080/"
        },
        "id": "gJMzycJxQDL0",
        "outputId": "32fa4168-ac44-4417-f3a2-10832e29029d"
      },
      "execution_count": 114,
      "outputs": [
        {
          "output_type": "stream",
          "name": "stdout",
          "text": [
            "63/63 [==============================] - 0s 2ms/step\n"
          ]
        }
      ]
    },
    {
      "cell_type": "code",
      "source": [
        "y_pred"
      ],
      "metadata": {
        "colab": {
          "base_uri": "https://localhost:8080/"
        },
        "id": "Kl_6gF0SQQs2",
        "outputId": "9ce67a83-94d2-4268-9e06-dfce8b5b7fb7"
      },
      "execution_count": 115,
      "outputs": [
        {
          "output_type": "execute_result",
          "data": {
            "text/plain": [
              "array([[0.0000000e+00],\n",
              "       [8.1051714e-38],\n",
              "       [0.0000000e+00],\n",
              "       ...,\n",
              "       [0.0000000e+00],\n",
              "       [1.8514216e-33],\n",
              "       [0.0000000e+00]], dtype=float32)"
            ]
          },
          "metadata": {},
          "execution_count": 115
        }
      ]
    },
    {
      "cell_type": "code",
      "source": [
        "#what threshold should be?, for this we need plot roc auc graph"
      ],
      "metadata": {
        "id": "qXOhzNM-QRTB"
      },
      "execution_count": 116,
      "outputs": []
    },
    {
      "cell_type": "code",
      "source": [
        "y_pred=np.where(y_pred>0.5,1,0)"
      ],
      "metadata": {
        "id": "--Ask_v3QfYl"
      },
      "execution_count": 117,
      "outputs": []
    },
    {
      "cell_type": "code",
      "source": [
        "y_pred"
      ],
      "metadata": {
        "colab": {
          "base_uri": "https://localhost:8080/"
        },
        "id": "OsuihnyAQoUF",
        "outputId": "6b3e7681-69ac-40c5-ae8b-6e5dd9babbfa"
      },
      "execution_count": 118,
      "outputs": [
        {
          "output_type": "execute_result",
          "data": {
            "text/plain": [
              "array([[0],\n",
              "       [0],\n",
              "       [0],\n",
              "       ...,\n",
              "       [0],\n",
              "       [0],\n",
              "       [0]])"
            ]
          },
          "metadata": {},
          "execution_count": 118
        }
      ]
    },
    {
      "cell_type": "code",
      "source": [
        "from sklearn.metrics import accuracy_score\n",
        "accuracy_score(y_test,y_pred)"
      ],
      "metadata": {
        "colab": {
          "base_uri": "https://localhost:8080/"
        },
        "id": "FvDAB9ZhQts7",
        "outputId": "f50968ab-9353-4b14-9584-861811bfdf8d"
      },
      "execution_count": 119,
      "outputs": [
        {
          "output_type": "execute_result",
          "data": {
            "text/plain": [
              "0.797"
            ]
          },
          "metadata": {},
          "execution_count": 119
        }
      ]
    },
    {
      "cell_type": "code",
      "source": [
        "#for increasing accuracy\n",
        "#change act. fn. to relu\n",
        "#increase epochs\n",
        "#number of nodes inc. in hiddn layer\n",
        "#can increase layers (but have to check as increasing more layers inc. overfitting)\n"
      ],
      "metadata": {
        "id": "XAxFZPbwQytU"
      },
      "execution_count": 121,
      "outputs": []
    },
    {
      "cell_type": "code",
      "source": [
        "import matplotlib.pyplot as plt\n",
        "\n",
        "plt.plot(history.history['loss'])\n",
        "plt.plot(history.history['val_loss'])"
      ],
      "metadata": {
        "colab": {
          "base_uri": "https://localhost:8080/",
          "height": 448
        },
        "id": "iGiB2WeySn4i",
        "outputId": "24fb8343-81d6-40ca-a8e7-8250be2d641c"
      },
      "execution_count": 122,
      "outputs": [
        {
          "output_type": "execute_result",
          "data": {
            "text/plain": [
              "[<matplotlib.lines.Line2D at 0x7a8994e59a50>]"
            ]
          },
          "metadata": {},
          "execution_count": 122
        },
        {
          "output_type": "display_data",
          "data": {
            "text/plain": [
              "<Figure size 640x480 with 1 Axes>"
            ],
            "image/png": "[encoded data removed]"
          },
          "metadata": {}
        }
      ]
    },
    {
      "cell_type": "code",
      "source": [
        "plt.plot(history.history['accuracy'])\n",
        "plt.plot(history.history['val_accuracy'])"
      ],
      "metadata": {
        "colab": {
          "base_uri": "https://localhost:8080/",
          "height": 448
        },
        "id": "XY-FXVGvSocu",
        "outputId": "7db37803-3a7d-42fa-98a7-17b486f37892"
      },
      "execution_count": 123,
      "outputs": [
        {
          "output_type": "execute_result",
          "data": {
            "text/plain": [
              "[<matplotlib.lines.Line2D at 0x7a89945556f0>]"
            ]
          },
          "metadata": {},
          "execution_count": 123
        },
        {
          "output_type": "display_data",
          "data": {
            "text/plain": [
              "<Figure size 640x480 with 1 Axes>"
            ],
            "image/png": "[encoded data removed]"
          },
          "metadata": {}
        }
      ]
    },
    {
      "cell_type": "code",
      "source": [],
      "metadata": {
        "id": "jOAiWeWcSsg4"
      },
      "execution_count": null,
      "outputs": []
    }
  ]
}